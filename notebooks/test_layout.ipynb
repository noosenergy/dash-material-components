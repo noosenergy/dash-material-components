{
 "cells": [
  {
   "cell_type": "code",
   "execution_count": null,
   "id": "comparable-triple",
   "metadata": {},
   "outputs": [],
   "source": [
    "import jupyter_dash\n",
    "\n",
    "import dash_mdc_neptune as mdc"
   ]
  },
  {
   "cell_type": "code",
   "execution_count": null,
   "id": "balanced-upset",
   "metadata": {},
   "outputs": [],
   "source": [
    "text = mdc.Typography(text=\"Content..\", component=\"p\", variant=\"body2\")\n",
    "\n",
    "card_1a = mdc.Card(title=\"Card 1a\", size=8, children=text)\n",
    "card_1b = mdc.Card(title=\"Card 1b\", children=text)\n",
    "section_1 = mdc.Section(orientation=\"columns\", children=[card_1a, card_1b])\n",
    "\n",
    "card_2 = mdc.Card(title=\"Card 2\", children=text)\n",
    "section_2 = mdc.Section(size=4, children=card_2)\n",
    "\n",
    "page = mdc.Page(orientation=\"rows\", children=[section_2, section_1])\n",
    "navbar = mdc.NavBar(title=\"Custom dash\")\n",
    "\n",
    "layout = mdc.Dashboard(children=[navbar, page])"
   ]
  },
  {
   "cell_type": "code",
   "execution_count": null,
   "id": "lucky-surgeon",
   "metadata": {},
   "outputs": [],
   "source": [
    "app = jupyter_dash.JupyterDash(__name__)\n",
    "app.layout = layout\n",
    "\n",
    "app.run_server(mode='jupyterlab', host=\"0.0.0.0\", port=8001)"
   ]
  },
  {
   "cell_type": "code",
   "execution_count": null,
   "id": "dominican-meter",
   "metadata": {},
   "outputs": [],
   "source": []
  }
 ],
 "metadata": {
  "kernelspec": {
   "display_name": "Python 3",
   "language": "python",
   "name": "python3"
  },
  "language_info": {
   "codemirror_mode": {
    "name": "ipython",
    "version": 3
   },
   "file_extension": ".py",
   "mimetype": "text/x-python",
   "name": "python",
   "nbconvert_exporter": "python",
   "pygments_lexer": "ipython3",
   "version": "3.8.6"
  }
 },
 "nbformat": 4,
 "nbformat_minor": 5
}
