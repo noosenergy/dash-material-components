{
 "cells": [
  {
   "cell_type": "code",
   "execution_count": null,
   "id": "everyday-remainder",
   "metadata": {},
   "outputs": [],
   "source": [
    "import jupyter_dash\n",
    "\n",
    "import dash_material_components as dmc"
   ]
  },
  {
   "cell_type": "code",
   "execution_count": null,
   "id": "subjective-secondary",
   "metadata": {},
   "outputs": [],
   "source": [
    "# Dashboard layout\n",
    "\n",
    "text = dmc.Typography(text=\"Content...\", component=\"p\", variant=\"body2\")\n",
    "text_2 = dmc.Typography(text=\"Other content...\", component=\"p\", variant=\"body2\")\n",
    "\n",
    "section_1 = dmc.Section(\n",
    "    id=\"section-1\",\n",
    "    orientation=\"columns\",\n",
    "    children=[text, text_2],\n",
    "    cards=[{\"title\": \"Card 1a\", \"size\": 3}, {\"title\": \"Card 1b\"}]\n",
    ")\n",
    "\n",
    "section_2 = dmc.Section(\n",
    "    id=\"section-2\",\n",
    "    size=3,\n",
    "    children=[text, text_2],\n",
    "    orientation=\"rows\",\n",
    "    cards=[{\"title\": \"Card 2a\", \"size\": 4}, {\"title\": \"Card 2b\"}]\n",
    ")\n",
    "\n",
    "page = dmc.Page(orientation=\"columns\", children=[section_1, section_2])\n",
    "navbar = dmc.NavBar(title=\"Custom dash\")\n",
    "\n",
    "layout = dmc.Dashboard(children=[navbar, page])"
   ]
  },
  {
   "cell_type": "code",
   "execution_count": null,
   "id": "novel-gates",
   "metadata": {},
   "outputs": [],
   "source": [
    "# Dash app\n",
    "\n",
    "app = jupyter_dash.JupyterDash(__name__)\n",
    "app.layout = layout\n",
    "\n",
    "app.run_server(mode=\"inline\", host=\"0.0.0.0\", port=8001, debug=False)"
   ]
  },
  {
   "cell_type": "code",
   "execution_count": null,
   "id": "629cff48",
   "metadata": {},
   "outputs": [],
   "source": []
  }
 ],
 "metadata": {
  "kernelspec": {
   "display_name": "Python 3 (ipykernel)",
   "language": "python",
   "name": "python3"
  },
  "language_info": {
   "codemirror_mode": {
    "name": "ipython",
    "version": 3
   },
   "file_extension": ".py",
   "mimetype": "text/x-python",
   "name": "python",
   "nbconvert_exporter": "python",
   "pygments_lexer": "ipython3",
   "version": "3.11.4"
  }
 },
 "nbformat": 4,
 "nbformat_minor": 5
}
