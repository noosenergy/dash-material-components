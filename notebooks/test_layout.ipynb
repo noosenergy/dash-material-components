{
 "cells": [
  {
   "cell_type": "code",
   "execution_count": 1,
   "id": "everyday-remainder",
   "metadata": {},
   "outputs": [],
   "source": [
    "import jupyter_dash\n",
    "import dash_material_components as mdc"
   ]
  },
  {
   "cell_type": "code",
   "execution_count": 2,
   "id": "subjective-secondary",
   "metadata": {},
   "outputs": [],
   "source": [
    "text = mdc.Typography(text=\"Content...\", component=\"p\", variant=\"body2\")\n",
    "text_2 = mdc.Typography(text=\"Other content...\", component=\"p\", variant=\"body2\")\n",
    "\n",
    "section_1 = mdc.Section(\n",
    "    id=\"section-1\",\n",
    "    orientation=\"columns\",\n",
    "    children=[text, text_2],\n",
    "    cards=[{\"title\": \"Card 1a\", \"size\": 3}, {\"title\": \"Card 1b\"}]\n",
    ")\n",
    "\n",
    "section_2 = mdc.Section(\n",
    "    id=\"section-2\",\n",
    "    size=3,\n",
    "    children=[text, text_2],\n",
    "    orientation=\"rows\",\n",
    "    cards=[{\"title\": \"Card 2a\", \"size\": 4}, {\"title\": \"Card 2b\"}]\n",
    ")\n",
    "\n",
    "page = mdc.Page(orientation=\"columns\", children=[section_1, section_2])\n",
    "navbar = mdc.NavBar(title=\"Custom dash\")\n",
    "\n",
    "layout = mdc.Dashboard(children=[navbar, page])"
   ]
  },
  {
   "cell_type": "code",
   "execution_count": null,
   "id": "novel-gates",
   "metadata": {},
   "outputs": [],
   "source": [
    "app = jupyter_dash.JupyterDash(__name__)\n",
    "app.layout = layout\n",
    "\n",
    "app.run_server(mode='jupyterlab', host=\"0.0.0.0\", port=8001, debug=False)"
   ]
  },
  {
   "cell_type": "code",
   "execution_count": null,
   "id": "629cff48",
   "metadata": {},
   "outputs": [],
   "source": []
  }
 ],
 "metadata": {
  "kernelspec": {
   "display_name": "Python 3 (ipykernel)",
   "language": "python",
   "name": "python3"
  },
  "language_info": {
   "codemirror_mode": {
    "name": "ipython",
    "version": 3
   },
   "file_extension": ".py",
   "mimetype": "text/x-python",
   "name": "python",
   "nbconvert_exporter": "python",
   "pygments_lexer": "ipython3",
   "version": "3.11.5"
  }
 },
 "nbformat": 4,
 "nbformat_minor": 5
}
