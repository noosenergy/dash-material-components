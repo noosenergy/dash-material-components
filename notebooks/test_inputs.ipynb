{
 "cells": [
  {
   "cell_type": "code",
   "execution_count": null,
   "id": "cheap-concept",
   "metadata": {},
   "outputs": [],
   "source": [
    "from jupyter_dash import JupyterDash\n",
    "from dash.dependencies import Input, Output\n",
    "\n",
    "import dash_mdc_neptune as mdc"
   ]
  },
  {
   "cell_type": "code",
   "execution_count": null,
   "id": "public-snowboard",
   "metadata": {},
   "outputs": [],
   "source": [
    "# Test toggle\n",
    "\n",
    "toggle = mdc.Toggle(\n",
    "    id=\"toggle\",\n",
    "    options=[{'label': '1'}, {'label': '2'}],\n",
    "    selected='1',\n",
    ")\n",
    "text = mdc.Typography(\n",
    "    id=\"text\",\n",
    "    text=\"Content...\",\n",
    "    component=\"p\",\n",
    "    variant=\"body2\",\n",
    ")\n",
    "\n",
    "box = mdc.Box(children=[toggle, text])"
   ]
  },
  {
   "cell_type": "code",
   "execution_count": null,
   "id": "reverse-involvement",
   "metadata": {},
   "outputs": [],
   "source": [
    "# Test dropdown\n",
    "\n",
    "dropdown = mdc.Dropdown(\n",
    "    id=\"dropdown\",\n",
    "    labelText=\"test\",\n",
    "    helperText=\"test\",\n",
    "    options=[{'label': 'test1'}, {'label': 'test2'}],\n",
    ")\n",
    "text_2 = mdc.Typography(\n",
    "    id=\"text-2\",\n",
    "    text=\"Other content...\",\n",
    "    component=\"p\",\n",
    "    variant=\"body2\",\n",
    ")\n",
    "\n",
    "box_2 = mdc.Box(children=[dropdown, text_2])"
   ]
  },
  {
   "cell_type": "code",
   "execution_count": null,
   "id": "average-charm",
   "metadata": {},
   "outputs": [],
   "source": [
    "tab = mdc.Tab(\n",
    "    children=[box, box_2],\n",
    "    tabs=[{\"label\": \"toggle\"}, {\"label\": \"dropdown\"}]\n",
    ")\n",
    "section = mdc.Section(\n",
    "    orientation=\"columns\",\n",
    "    children=tab,\n",
    "    cards=[{\"title\": \"Card 1\"}]\n",
    ")\n",
    "\n",
    "page = mdc.Page(orientation=\"columns\", children=section)\n",
    "navbar = mdc.NavBar(title=\"Custom dash\")\n",
    "\n",
    "layout = mdc.Dashboard(children=[navbar, page])"
   ]
  },
  {
   "cell_type": "code",
   "execution_count": null,
   "id": "fatal-ontario",
   "metadata": {},
   "outputs": [],
   "source": [
    "app = JupyterDash(__name__)\n",
    "app.layout = layout\n",
    "\n",
    "\n",
    "@app.callback(\n",
    "    Output(component_id='text', component_property='text'),\n",
    "    Input(component_id='toggle', component_property='selected'),\n",
    ")\n",
    "def update_toggle(value):\n",
    "    if value == '1':\n",
    "        return \"Other content...\"\n",
    "    return \"Another content...\"\n",
    "\n",
    "\n",
    "@app.callback(\n",
    "    Output(component_id='text-2', component_property='text'),\n",
    "    Input(component_id='dropdown', component_property='selected'),\n",
    ")\n",
    "def update_dropdown(value):\n",
    "    if value:\n",
    "        if 1 in value:\n",
    "            return \"Other content...\"\n",
    "    return \"Another content...\"\n",
    "\n",
    "\n",
    "app.run_server(mode='external', host=\"0.0.0.0\", port=8001)"
   ]
  },
  {
   "cell_type": "code",
   "execution_count": null,
   "id": "soviet-parker",
   "metadata": {},
   "outputs": [],
   "source": []
  }
 ],
 "metadata": {
  "kernelspec": {
   "display_name": "Python 3",
   "language": "python",
   "name": "python3"
  },
  "language_info": {
   "codemirror_mode": {
    "name": "ipython",
    "version": 3
   },
   "file_extension": ".py",
   "mimetype": "text/x-python",
   "name": "python",
   "nbconvert_exporter": "python",
   "pygments_lexer": "ipython3",
   "version": "3.8.6"
  }
 },
 "nbformat": 4,
 "nbformat_minor": 5
}
