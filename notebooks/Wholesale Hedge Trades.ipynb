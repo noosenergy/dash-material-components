{
 "cells": [
  {
   "cell_type": "code",
   "execution_count": 1,
   "id": "healthy-garlic",
   "metadata": {},
   "outputs": [
    {
     "name": "stdout",
     "output_type": "stream",
     "text": [
      "Requirement already satisfied: dash-dangerously-set-inner-html in /opt/conda/lib/python3.8/site-packages (0.0.2)\n"
     ]
    }
   ],
   "source": [
    "! pip install dash-dangerously-set-inner-html"
   ]
  },
  {
   "cell_type": "code",
   "execution_count": 2,
   "id": "theoretical-connection",
   "metadata": {},
   "outputs": [],
   "source": [
    "# Global import\n",
    "\n",
    "import datetime as dt\n",
    "\n",
    "import pandas as pd\n",
    "import numpy as np\n",
    "import plotly.graph_objects as go\n",
    "\n",
    "from dash_mdc_neptune import themes"
   ]
  },
  {
   "cell_type": "code",
   "execution_count": 3,
   "id": "tropical-eclipse",
   "metadata": {},
   "outputs": [],
   "source": [
    "# Global variables\n",
    "\n",
    "ASSET_NAME = \"PWRTE\"\n",
    "PORTFOLIO_NAME = \"TEST_FR\""
   ]
  },
  {
   "cell_type": "markdown",
   "id": "indirect-acrobat",
   "metadata": {},
   "source": [
    "# PAGE 1"
   ]
  },
  {
   "cell_type": "code",
   "execution_count": 4,
   "id": "sealed-badge",
   "metadata": {},
   "outputs": [],
   "source": [
    "# Retrieve trades\n",
    "\n",
    "query_params = {\n",
    "    \"asset\": ASSET_NAME,\n",
    "    \"portfolio_name\": PORTFOLIO_NAME,\n",
    "}\n",
    "\n",
    "trades_df = nptc.filter_forward_contracts(**query_params)"
   ]
  },
  {
   "cell_type": "code",
   "execution_count": 5,
   "id": "catholic-upset",
   "metadata": {},
   "outputs": [],
   "source": [
    "# Format trades\n",
    "\n",
    "all_df = trades_df[npta.definitions.TRADE_DATE_COLUMNS]\n",
    "latest_df = all_df[all_df.traded_at==all_df.traded_at.max()]"
   ]
  },
  {
   "cell_type": "markdown",
   "id": "familiar-criterion",
   "metadata": {},
   "source": [
    "## SECTION 1"
   ]
  },
  {
   "cell_type": "markdown",
   "id": "established-latino",
   "metadata": {},
   "source": [
    "### CARD 1"
   ]
  },
  {
   "cell_type": "code",
   "execution_count": 6,
   "id": "tracked-comparison",
   "metadata": {},
   "outputs": [],
   "source": [
    "all_styler = all_df.style\n",
    "all_styler = all_styler.set_table_styles(\n",
    "    [\n",
    "        themes.pandas.noos_pd_row_hover,\n",
    "        themes.pandas.noos_pd_headers,\n",
    "    ]\n",
    ")\n",
    "all_styler = all_styler.hide_index()"
   ]
  },
  {
   "cell_type": "code",
   "execution_count": 7,
   "id": "fleet-shell",
   "metadata": {},
   "outputs": [],
   "source": [
    "latest_styler = latest_df.style\n",
    "latest_styler = latest_styler.set_table_styles(\n",
    "    [\n",
    "        themes.pandas.noos_pd_row_hover,\n",
    "        themes.pandas.noos_pd_headers,\n",
    "    ]\n",
    ")\n",
    "latest_styler = latest_styler.hide_index()"
   ]
  },
  {
   "cell_type": "markdown",
   "id": "liable-lawrence",
   "metadata": {},
   "source": [
    "### CARD 2"
   ]
  },
  {
   "cell_type": "code",
   "execution_count": 8,
   "id": "controlling-public",
   "metadata": {},
   "outputs": [],
   "source": [
    "trades_volume_df = npta.get_volumes_and_costs_from_trades(all_df)\n",
    "latest_volumes_df = npta.get_volumes_and_costs_from_trades(latest_df)"
   ]
  },
  {
   "cell_type": "code",
   "execution_count": 9,
   "id": "powered-trailer",
   "metadata": {},
   "outputs": [],
   "source": [
    "# Shared heatmap configs\n",
    "\n",
    "GO_LAYOUT = go.Layout(\n",
    "    xaxis=go.layout.XAxis(\n",
    "        title=go.layout.xaxis.Title(\n",
    "            text='local delivery date',\n",
    "        )\n",
    "    ),\n",
    "    yaxis=go.layout.YAxis(\n",
    "        title=go.layout.yaxis.Title(\n",
    "            text='MWh',\n",
    "        ),\n",
    "        side=\"left\",\n",
    "        overlaying='y2',\n",
    "    ),\n",
    "    yaxis2=go.layout.YAxis(\n",
    "        title=go.layout.yaxis.Title(\n",
    "            text='EUR/MWh',\n",
    "        ),\n",
    "        side=\"right\",\n",
    "    ),\n",
    "    template=\"noos_watermark+noos_base+hoover_xunified+xaxis_period+min_modebar\",\n",
    ")"
   ]
  },
  {
   "cell_type": "code",
   "execution_count": 10,
   "id": "parental-honolulu",
   "metadata": {},
   "outputs": [],
   "source": [
    "all1 = go.Scatter(\n",
    "    x = trades_volume_df.index,\n",
    "    y = trades_volume_df.total_volume * 2,\n",
    "    name = \"Volumes\",\n",
    "    fill='tozeroy',\n",
    "    yaxis=\"y\",\n",
    "    visible = True\n",
    ")\n",
    "\n",
    "all2 = go.Scatter(\n",
    "    x = trades_volume_df.index,\n",
    "    y = trades_volume_df.price_average,\n",
    "    name = \"Prices\",\n",
    "    visible = True,\n",
    "    yaxis=\"y2\"\n",
    ")\n",
    "\n",
    "latest1 = go.Scatter(\n",
    "    x = latest_volumes_df.index,\n",
    "    y = latest_volumes_df.total_volume * 2,\n",
    "    name = \"Volumes\",\n",
    "    fill='tozeroy',\n",
    "    yaxis=\"y\",\n",
    "    visible = False\n",
    ")\n",
    "\n",
    "latest2 = go.Scatter(\n",
    "    x = latest_volumes_df.index,\n",
    "    y = latest_volumes_df.price_average,\n",
    "    name = \"Prices\",\n",
    "    visible = False,\n",
    "    yaxis=\"y2\"\n",
    ")\n",
    "\n",
    "fig = go.FigureWidget(\n",
    "    data=[all1, all2, latest1, latest2],\n",
    "    layout=GO_LAYOUT,\n",
    ")"
   ]
  },
  {
   "cell_type": "markdown",
   "id": "ongoing-harrison",
   "metadata": {},
   "source": [
    "## Definitions:\n",
    "\n",
    " - **Volumes** represent aggregated volumes per delivery period.\n",
    " - **Prices** represent average traded prices per delivery period"
   ]
  },
  {
   "cell_type": "markdown",
   "id": "falling-edgar",
   "metadata": {},
   "source": [
    "# DASH"
   ]
  },
  {
   "cell_type": "code",
   "execution_count": 11,
   "id": "extensive-straight",
   "metadata": {},
   "outputs": [],
   "source": [
    "import jupyter_dash\n",
    "\n",
    "import dash_dangerously_set_inner_html as html\n",
    "from dash import dcc\n",
    "\n",
    "import dash_mdc_neptune as mdc"
   ]
  },
  {
   "cell_type": "code",
   "execution_count": 24,
   "id": "cleared-chicken",
   "metadata": {},
   "outputs": [],
   "source": [
    "radio = dcc.RadioItems(\n",
    "    id=\"radio\",\n",
    "    options=[\n",
    "        {'label': 'All trades', 'value': 'ALL'},\n",
    "        {'label': 'Latest only', 'value': 'LATEST'},\n",
    "    ],\n",
    "    value='ALL'\n",
    ")"
   ]
  },
  {
   "cell_type": "code",
   "execution_count": 33,
   "id": "reduced-obligation",
   "metadata": {},
   "outputs": [],
   "source": [
    "table = html.DangerouslySetInnerHTML(children=all_styler.to_html())\n",
    "\n",
    "extras = {\n",
    "    \"style\": {\"height\": \"100%\", \"width\": \"100%\"},\n",
    "}\n",
    "graph = dcc.Graph(\n",
    "    id=\"graph\",\n",
    "    figure=fig,\n",
    "    **extras\n",
    ")\n",
    "\n",
    "tab = mdc.Tab(\n",
    "    id=\"tab\",\n",
    "    children=[table, graph],\n",
    "    options=[\n",
    "        {\"label\": \"Trade blotter\"},\n",
    "        {\"label\": \"Trade profile\"},\n",
    "    ],\n",
    ")\n",
    "section = mdc.Section(\n",
    "    id=\"section\",\n",
    "    orientation=\"columns\",\n",
    "    children=[radio, tab],\n",
    "    options=[\n",
    "        {\"title\": \"\", \"size\": 2},\n",
    "        {\"title\": \"\"},\n",
    "    ],\n",
    ")\n",
    "\n",
    "page = mdc.Page(children=section)\n",
    "navbar = mdc.NavBar(title=\"Wholesale Hedge Trades\")\n",
    "\n",
    "layout = mdc.Dashboard(children=[navbar, page])"
   ]
  },
  {
   "cell_type": "code",
   "execution_count": 34,
   "id": "celtic-image",
   "metadata": {},
   "outputs": [
    {
     "name": "stdout",
     "output_type": "stream",
     "text": [
      "Dash app running on http://0.0.0.0:8001/\n"
     ]
    },
    {
     "name": "stderr",
     "output_type": "stream",
     "text": [
      "/opt/conda/lib/python3.8/site-packages/jupyter_dash/jupyter_app.py:139: UserWarning:\n",
      "\n",
      "The 'environ['werkzeug.server.shutdown']' function is deprecated and will be removed in Werkzeug 2.1.\n",
      "\n"
     ]
    }
   ],
   "source": [
    "from jupyter_dash import JupyterDash\n",
    "from dash.dependencies import Input, Output\n",
    "\n",
    "\n",
    "app = JupyterDash(__name__)\n",
    "app.layout = layout\n",
    "\n",
    "\n",
    "@app.callback(\n",
    "    Output(component_id='tab', component_property='children'),\n",
    "    Input(component_id='radio', component_property='value')\n",
    ")\n",
    "def update_tabs(value):\n",
    "    if value == 'ALL':\n",
    "        table = html.DangerouslySetInnerHTML(all_styler.to_html())\n",
    "        fig.data[2].visible=False\n",
    "        fig.data[3].visible=False\n",
    "        fig.data[0].visible=True\n",
    "        fig.data[1].visible=True\n",
    "    else:\n",
    "        fig.data[0].visible=False\n",
    "        fig.data[1].visible=False\n",
    "        fig.data[2].visible=True\n",
    "        fig.data[3].visible=True\n",
    "        table = html.DangerouslySetInnerHTML(latest_styler.to_html())\n",
    "    extras = {\n",
    "        \"style\": {\"height\": \"100%\", \"width\": \"100%\"},\n",
    "    }\n",
    "    graph = dcc.Graph(\n",
    "        id=\"graph\",\n",
    "        figure=fig,\n",
    "        **extras\n",
    "    )\n",
    "    return [table, graph]\n",
    "\n",
    "app.run_server(mode='external', host=\"0.0.0.0\", port=8001)"
   ]
  },
  {
   "cell_type": "code",
   "execution_count": null,
   "id": "certified-coaching",
   "metadata": {},
   "outputs": [],
   "source": []
  }
 ],
 "metadata": {
  "kernelspec": {
   "display_name": "Python 3",
   "language": "python",
   "name": "python3"
  },
  "language_info": {
   "codemirror_mode": {
    "name": "ipython",
    "version": 3
   },
   "file_extension": ".py",
   "mimetype": "text/x-python",
   "name": "python",
   "nbconvert_exporter": "python",
   "pygments_lexer": "ipython3",
   "version": "3.8.6"
  },
  "toc-autonumbering": true,
  "voila": {
   "template": "neptune_flex"
  }
 },
 "nbformat": 4,
 "nbformat_minor": 5
}
