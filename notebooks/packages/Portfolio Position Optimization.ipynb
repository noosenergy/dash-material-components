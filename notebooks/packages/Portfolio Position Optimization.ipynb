{
 "cells": [
  {
   "cell_type": "code",
   "execution_count": null,
   "metadata": {},
   "outputs": [],
   "source": [
    "# Global import\n",
    "\n",
    "import datetime as dt\n",
    "import pytz\n",
    "\n",
    "import pandas as pd\n",
    "import numpy as np\n",
    "import plotly.graph_objects as go\n",
    "\n",
    "from dash_mdc_neptune import themes"
   ]
  },
  {
   "cell_type": "code",
   "execution_count": null,
   "metadata": {},
   "outputs": [],
   "source": [
    "# Global variables\n",
    "\n",
    "S3_DATASET = \"s3://noos-prod-neptune-services/Store/Datasets/\"\n",
    "\n",
    "ASSET_NAME = \"PWRTE\"\n",
    "PORTFOLIO_NAME = \"TEST_FR\""
   ]
  },
  {
   "cell_type": "markdown",
   "metadata": {},
   "source": [
    "# PAGE 1"
   ]
  },
  {
   "cell_type": "code",
   "execution_count": null,
   "metadata": {},
   "outputs": [],
   "source": [
    "# Retrieve agreements\n",
    "\n",
    "agreement_volumes_df = pd.read_parquet(S3_DATASET + \"NOOS/consommation_tot_france_random_1k.parquet\")"
   ]
  },
  {
   "cell_type": "code",
   "execution_count": null,
   "metadata": {},
   "outputs": [],
   "source": [
    "# Retrieve hedges\n",
    "\n",
    "QUERY_PARAMS = {\n",
    "    \"asset\": ASSET_NAME,\n",
    "    \"portfolio_name\": PORTFOLIO_NAME,\n",
    "}\n",
    "\n",
    "hedges_df = nptc.filter_forward_contracts(**QUERY_PARAMS)"
   ]
  },
  {
   "cell_type": "code",
   "execution_count": null,
   "metadata": {},
   "outputs": [],
   "source": [
    "# Retrieve products\n",
    "\n",
    "QUERY_PARAMS = {\n",
    "    \"asset\": ASSET_NAME,\n",
    "    \"published_at\": dt.datetime(2021, 6, 1),\n",
    "    \"min_delivery_period\": dt.timedelta(hours=8),\n",
    "}\n",
    "\n",
    "products_df = nptc.retrieve_forward_fixings(**QUERY_PARAMS)\n",
    "\n",
    "indices_df = npta.domain.products.collections.IndexSet.from_pandas(products_df).to_pandas()\n",
    "base_indices_df = indices_df[indices_df.intraday_delivery == \"BASE\"].calendar_delivery\n",
    "peak_indices_df = indices_df[indices_df.intraday_delivery == \"PEAK\"].calendar_delivery"
   ]
  },
  {
   "cell_type": "markdown",
   "metadata": {},
   "source": [
    "## SECTION 1"
   ]
  },
  {
   "cell_type": "markdown",
   "metadata": {
    "heading_collapsed": "true"
   },
   "source": [
    "### CARD 1"
   ]
  },
  {
   "cell_type": "code",
   "execution_count": null,
   "metadata": {},
   "outputs": [],
   "source": [
    "# Extract initial hedge volumes\n",
    "\n",
    "hedge_volumes_df = npta.get_volumes_and_costs_from_trades(hedges_df)"
   ]
  },
  {
   "cell_type": "code",
   "execution_count": null,
   "metadata": {},
   "outputs": [],
   "source": [
    "# Shared scatter configs\n",
    "\n",
    "GO_LAYOUT = go.Layout(\n",
    "    xaxis=go.layout.XAxis(\n",
    "        title=go.layout.xaxis.Title(\n",
    "            text='Local delivery',\n",
    "        )\n",
    "    ),\n",
    "    yaxis=go.layout.YAxis(\n",
    "        title=go.layout.yaxis.Title(\n",
    "            text='MWh',\n",
    "        ),\n",
    "        fixedrange=True,\n",
    "    ),\n",
    "    template=\"noos_watermark+noos_pastel+hoover_xunified+min_modebar\",\n",
    ")"
   ]
  },
  {
   "cell_type": "code",
   "execution_count": null,
   "metadata": {},
   "outputs": [],
   "source": [
    "all_agreements = go.Scatter(\n",
    "    x = agreement_volumes_df.index,\n",
    "    y = agreement_volumes_df.consumption,\n",
    "    line_color=themes.NOOS_HTML_COLORS[\"gray\"],\n",
    "    name = \"Agreement volumes\",\n",
    "    visible = True\n",
    ")\n",
    "\n",
    "initial_trades = go.Scatter(\n",
    "    x = hedge_volumes_df.index,\n",
    "    y = hedge_volumes_df.total_volume,\n",
    "    line_color=themes.NOOS_HTML_COLORS[\"accent\"],\n",
    "    name = \"Hedge volumes\",\n",
    "    fill='tozeroy',\n",
    "    visible = True\n",
    ")\n",
    "\n",
    "trades_with_hedges = go.Scatter(\n",
    "    x = hedge_volumes_df.index,\n",
    "    y = [],\n",
    "#     line_color=themes.NOOS_HTML_COLORS[\"accent\"],\n",
    "    name = \"Suggested hedge volumes\",\n",
    "    mode='lines+markers',\n",
    "    visible = True\n",
    ")\n",
    "\n",
    "\n",
    "fig = go.FigureWidget(\n",
    "    data=[\n",
    "        all_agreements,\n",
    "        initial_trades,\n",
    "        trades_with_hedges,\n",
    "    ],\n",
    "    layout=GO_LAYOUT,\n",
    ")"
   ]
  },
  {
   "cell_type": "markdown",
   "metadata": {},
   "source": [
    "# DASH"
   ]
  },
  {
   "cell_type": "code",
   "execution_count": null,
   "metadata": {},
   "outputs": [],
   "source": [
    "import jupyter_dash\n",
    "\n",
    "from dash import dcc\n",
    "\n",
    "import dash_mdc_neptune as mdc"
   ]
  },
  {
   "cell_type": "markdown",
   "metadata": {},
   "source": [
    "## LAYOUT"
   ]
  },
  {
   "cell_type": "code",
   "execution_count": null,
   "metadata": {},
   "outputs": [],
   "source": [
    "# Display graph & summary in sections\n",
    "graph = dcc.Graph(\n",
    "    id=\"graph\",\n",
    "    figure=fig,\n",
    "    style={\"height\": \"100%\", \"width\": \"100%\"},\n",
    ")\n",
    "\n",
    "text = mdc.Typography(\n",
    "    id=\"text\",\n",
    "    text=\"Content...\",\n",
    "    component=\"p\",\n",
    "    variant=\"body2\",\n",
    ")\n",
    "text_2 = mdc.Typography(\n",
    "    id=\"text-2\",\n",
    "    text=\"Other content...\",\n",
    "    component=\"p\",\n",
    "    variant=\"body2\",\n",
    ")"
   ]
  },
  {
   "cell_type": "code",
   "execution_count": null,
   "metadata": {},
   "outputs": [],
   "source": [
    "# Dashboard sections\n",
    "\n",
    "section_summary = mdc.Section(\n",
    "    id=\"section-summary\",\n",
    "    children=[text, text_2],\n",
    "    size=3,\n",
    "    cards=[\n",
    "        {\"title\": \"Trading summary\", \"size\": 3},\n",
    "        {\"title\": \"Shaping summary\"},\n",
    "    ],\n",
    ")\n",
    "\n",
    "section_graph = mdc.Section(\n",
    "    id=\"section-graph\",\n",
    "    children=graph,\n",
    "    cards=[{\"title\": \"Portfolio profile\"}],\n",
    ")"
   ]
  },
  {
   "cell_type": "code",
   "execution_count": null,
   "metadata": {},
   "outputs": [],
   "source": [
    "# Dashboard sidebar\n",
    "\n",
    "base_dropdown = mdc.Dropdown(\n",
    "    id=\"dropdown-base\",\n",
    "    labelText=\"Base\",\n",
    "    width=180,\n",
    "    options=base_indices_df.to_list(),\n",
    ")\n",
    "peak_dropdown = mdc.Dropdown(\n",
    "    id=\"dropdown-peak\",\n",
    "    labelText=\"Peak\",\n",
    "    width=180,\n",
    "    options=peak_indices_df.to_list(),\n",
    ")\n",
    "\n",
    "strategy_toggle = mdc.Toggle(\n",
    "    id=\"toggle-strategy\",\n",
    "    options=['Volume', 'Value'],\n",
    ")\n",
    "\n",
    "sidebar = mdc.SideBar(\n",
    "    children=[base_dropdown, peak_dropdown, strategy_toggle],\n",
    "    settings=[\"Select product\", \"\", \"Select strategy\"],\n",
    ")"
   ]
  },
  {
   "cell_type": "code",
   "execution_count": null,
   "metadata": {},
   "outputs": [],
   "source": [
    "# Dashboard layout\n",
    "\n",
    "page = mdc.Page(\n",
    "    orientation=\"columns\",\n",
    "    children=[section_summary, section_graph]\n",
    ")\n",
    "navbar = mdc.NavBar(title=\"Portfolio Position Optimization\")\n",
    "\n",
    "layout = mdc.Dashboard(children=[navbar, sidebar, page])"
   ]
  },
  {
   "cell_type": "markdown",
   "metadata": {},
   "source": [
    "## APP"
   ]
  },
  {
   "cell_type": "code",
   "execution_count": null,
   "metadata": {},
   "outputs": [],
   "source": [
    "from jupyter_dash import JupyterDash\n",
    "from dash.dependencies import Input, Output\n",
    "\n",
    "\n",
    "app = JupyterDash(__name__)\n",
    "app.layout = layout\n",
    "\n",
    "\n",
    "# @app.callback(\n",
    "#     Output(component_id='table', component_property='rows'),\n",
    "#     Output(component_id='graph', component_property='figure'),\n",
    "#     Input(component_id='toggle', component_property='selected'),\n",
    "# )\n",
    "# def update_tabs(value):\n",
    "#     if value == 'all':\n",
    "#         rows = all_df.to_dict('records')\n",
    "#         fig.data[2].visible=False\n",
    "#         fig.data[3].visible=False\n",
    "#         fig.data[0].visible=True\n",
    "#         fig.data[1].visible=True\n",
    "#     else:\n",
    "#         rows = latest_df.to_dict('records')\n",
    "#         fig.data[0].visible=False\n",
    "#         fig.data[1].visible=False\n",
    "#         fig.data[2].visible=True\n",
    "#         fig.data[3].visible=True\n",
    "#     return [rows, fig]\n",
    "\n",
    "app.run_server(\n",
    "    mode='external', host=\"0.0.0.0\", port=8001, debug=False\n",
    ")"
   ]
  },
  {
   "cell_type": "code",
   "execution_count": null,
   "metadata": {},
   "outputs": [],
   "source": [
    "def update_graph_hedges():\n",
    "    global HEDGES_VOLUMES\n",
    "    fig.data[2].update(y = (trades_volume_df.total_volume + HEDGES_VOLUMES).values * 2)"
   ]
  },
  {
   "cell_type": "code",
   "execution_count": null,
   "metadata": {},
   "outputs": [],
   "source": [
    "def get_eex_curve(wholesale_date:dt.datetime):\n",
    "    ts = nptc.retrieve_time_series(\n",
    "    curve_type=\"PRICE\",\n",
    "    curve_uid=\"PWRTE\",\n",
    "    published_at=wholesale_date,\n",
    ")\n",
    "    \n",
    "    return pd.DataFrame(data={'price': ts}, index=ts.index.rename('delivery_from'))"
   ]
  },
  {
   "cell_type": "code",
   "execution_count": null,
   "metadata": {},
   "outputs": [],
   "source": [
    "%time curve_pwrte_df=get_eex_curve(dt.datetime(2021,5,31))"
   ]
  },
  {
   "cell_type": "code",
   "execution_count": null,
   "metadata": {},
   "outputs": [],
   "source": [
    "summary_hedges_widget = ipywidgets.HTML()\n",
    "summary_trading_widget = ipywidgets.HTML()\n",
    "summary_shaping_widget = ipywidgets.HTML()"
   ]
  },
  {
   "cell_type": "code",
   "execution_count": null,
   "metadata": {},
   "outputs": [],
   "source": [
    "def print_summary_trading(*, \n",
    "                          traded_ratio_before, \n",
    "                          traded_ratio_after, \n",
    "                          traded_volume_before,\n",
    "                          traded_volume_after,\n",
    "                          traded_cost_before, \n",
    "                          traded_cost_after, \n",
    "                          traded_priceavg_before,\n",
    "                          traded_priceavg_after,\n",
    "                         ):\n",
    "    return f\"\"\"\n",
    "    <table class=\"summary\">\n",
    "        <tbody>\n",
    "            <tr>\n",
    "                <td></td>\n",
    "                <th>Actual</th>\n",
    "                <th>Proposed</th>\n",
    "            </tr>\n",
    "            <tr>\n",
    "                <th>Traded ratio</th>\n",
    "                <td>{traded_ratio_before}</td>\n",
    "                <td>{traded_ratio_after}</td>\n",
    "            </tr>            \n",
    "            <tr>\n",
    "                <th>Traded Volume</th>\n",
    "                <td>{traded_volume_before}</td>\n",
    "                <td>{traded_volume_after}</td>\n",
    "            </tr>\n",
    "            <tr>\n",
    "                <th>Traded cost</th>\n",
    "                <td>{traded_cost_before}</td>\n",
    "                <td>{traded_cost_after}</td>\n",
    "            </tr> \n",
    "            <tr>\n",
    "                <th>Traded price</th>\n",
    "                <td>{traded_priceavg_before}</td>   \n",
    "                <td>{traded_priceavg_after}</td>                    \n",
    "            </tr>\n",
    "            <tr>\n",
    "                <td></td>\n",
    "                <td></td>\n",
    "                <td></td>\n",
    "            </tr>\n",
    "        </tbody>\n",
    "    </table>\n",
    "    \"\"\""
   ]
  },
  {
   "cell_type": "code",
   "execution_count": null,
   "metadata": {},
   "outputs": [],
   "source": [
    "def print_summary_shaping(*, \n",
    "                          shaping_ratio_before, \n",
    "                          shaping_ratio_after, \n",
    "                          shaping_volume_before,\n",
    "                          shaping_volume_after,\n",
    "                          shaping_cost_before,\n",
    "                          shaping_cost_after,\n",
    "                          shaping_priceavg_before,\n",
    "                          shaping_priceavg_after,\n",
    "                         ):\n",
    "    return f\"\"\"\n",
    "    <table class=\"summary\">\n",
    "        <tbody>\n",
    "            <tr>\n",
    "                <td></td>\n",
    "                <th>Actual</th>\n",
    "                <th>Proposed</th>\n",
    "            </tr>           \n",
    "            <tr>\n",
    "                <th>Shaping ratio</th>\n",
    "                <td>{shaping_ratio_before}</td>\n",
    "                <td>{shaping_ratio_after}</td>\n",
    "            </tr>\n",
    "            <tr>\n",
    "                <th>Shaping volume</th>\n",
    "                <td>{shaping_volume_before}</td>   \n",
    "                <td>{shaping_volume_after}</td>                    \n",
    "            </tr>\n",
    "            <tr>\n",
    "                <th>Shaping cost</th>\n",
    "                <td>{shaping_cost_before}</td>\n",
    "                <td>{shaping_cost_after}</td>   \n",
    "            </tr>\n",
    "            <tr>\n",
    "                <th>Shaping price</th>\n",
    "                <td>{shaping_priceavg_before}</td>\n",
    "                <td>{shaping_priceavg_after}</td>   \n",
    "            </tr>\n",
    "        </tbody>\n",
    "    </table>\n",
    "    \"\"\""
   ]
  },
  {
   "cell_type": "code",
   "execution_count": null,
   "metadata": {},
   "outputs": [],
   "source": [
    "def print_summary_hedges(*,\n",
    "                         hedges_df: pd.DataFrame,\n",
    "                         hedges_volume,\n",
    "                         hedges_cost,\n",
    "                         hedges_price,\n",
    "                         ):\n",
    "    \n",
    "    if hedges_df.empty:\n",
    "        return \"\"\n",
    "    else:\n",
    "        hedges=\"\"\n",
    "        for row in hedges_df.itertuples():\n",
    "            hedges += f\"\"\"\n",
    "                <tr>\n",
    "                    <td colspan=2>\n",
    "                        {'buy' if row.quantity>0 else 'sell'} {abs(row.quantity)} {row.calendar_delivery} {row.intraday_delivery} \n",
    "                    </td>\n",
    "                </tr>\n",
    "            \"\"\"\n",
    "\n",
    "        return f\"\"\"\n",
    "        <table class=\"summary\">\n",
    "            <tbody>\n",
    "                {hedges}\n",
    "                <tr>\n",
    "                    <th>Summary:</th>\n",
    "                </tr>\n",
    "                <tr>\n",
    "                    <td>{hedges_volume:,.0f} MWh</td>\n",
    "                </tr>  \n",
    "                <tr>\n",
    "                    <td>{hedges_cost:,.0f} €</td>\n",
    "                </tr>            \n",
    "                <tr>\n",
    "                    <td>{hedges_price:,.2f} €/MWh</td>\n",
    "                </tr>\n",
    "            </tbody>\n",
    "        </table>\n",
    "        \"\"\""
   ]
  },
  {
   "cell_type": "code",
   "execution_count": null,
   "metadata": {},
   "outputs": [],
   "source": [
    "def update_summary():\n",
    "    global START\n",
    "    global END\n",
    "    temp_all_volumes = trades_volume_df.total_volume[START:END]\n",
    "    temp_all_values = trades_volume_df.total_value[START:END]\n",
    "    \n",
    "    temp_conso_volumes = conso_df.consumption[START:END]\n",
    "    temp_net_volumes = (conso_df.consumption - trades_volume_df.total_volume)[START:END]\n",
    "    \n",
    "    temp_market_curve = curve_pwrte_df.price[START:END]\n",
    "    \n",
    "    # Before\n",
    "    traded_ratio_before = f\"{temp_all_volumes.sum()/temp_conso_volumes.sum():,.0%}\"\n",
    "    traded_volume_before = f\"{temp_all_volumes.sum():,.0f} MWh\"\n",
    "    traded_cost_before = f\"{temp_all_values.sum():,.0f} €\" \n",
    "    traded_priceavg_before = f\"{temp_all_values.sum()/temp_all_volumes.sum():,.2f} €/MWh\"\n",
    "    \n",
    "    shaping_ratio_before = f\"{abs(temp_net_volumes).sum()/temp_conso_volumes.sum():,.0%}\"\n",
    "    shaping_volume_before = f\"{abs(temp_net_volumes).sum():,.0f} MWh\"\n",
    "    shaping_cost_before = f\"{(temp_net_volumes * temp_market_curve).sum():,.0f} €\"\n",
    "    shaping_priceavg_before = f\"{(temp_net_volumes * temp_market_curve).sum() / temp_net_volumes.sum() :,.2f} €/MWh\"\n",
    "\n",
    "    # After\n",
    "    if not HEDGES_VOLUMES.empty:\n",
    "        temp_hedges_volumes = HEDGES_VOLUMES[START:END].reindex(temp_net_volumes.index).fillna(0)\n",
    "        \n",
    "        hedges_volume = temp_hedges_volumes.sum()\n",
    "        hedges_cost = (temp_hedges_volumes * temp_market_curve).sum()\n",
    "        hedges_price = hedges_cost/hedges_volume  \n",
    "        \n",
    "        traded_ratio_after = f\"{(temp_all_volumes+temp_hedges_volumes).sum()/temp_conso_volumes.sum():,.0%}\"\n",
    "        traded_volume_after_value = (temp_all_volumes+temp_hedges_volumes).sum()\n",
    "        traded_volume_after = f\"{traded_volume_after_value:,.0f} MWh\"\n",
    "        traded_cost_after_value = temp_all_values.sum() + hedges_cost\n",
    "        traded_cost_after = f\"{traded_cost_after_value:,.0f} €\"\n",
    "        traded_priceavg_after = f\"{traded_cost_after_value/traded_volume_after_value:,.2f} €/MWh\"       \n",
    "        \n",
    "        shaping_ratio_after = f\"{abs(temp_net_volumes-temp_hedges_volumes).sum()/temp_conso_volumes.sum():,.0%}\"\n",
    "        shaping_volume_after = f\"{abs(temp_net_volumes-temp_hedges_volumes).sum():,.0f} MWh\"\n",
    "        shaping_cost_after = f\"{((temp_net_volumes-temp_hedges_volumes) * temp_market_curve).sum():,.0f} €\"\n",
    "        shaping_priceavg_after = f\"{((temp_net_volumes-temp_hedges_volumes) * temp_market_curve).sum() / (temp_net_volumes-temp_hedges_volumes).sum() :,.2f} €/MWh\"\n",
    "        \n",
    "        \n",
    "\n",
    "    else:\n",
    "        traded_ratio_after = \"\"\n",
    "        traded_volume_after = \"\" \n",
    "        traded_cost_after = \"\"\n",
    "        traded_priceavg_after = \"\"        \n",
    "        \n",
    "        shaping_ratio_after = \"\"\n",
    "        shaping_volume_after = \"\"\n",
    "        shaping_cost_after = \"\"\n",
    "        shaping_priceavg_after = \"\"\n",
    "        \n",
    "        hedges_volume = 0\n",
    "        hedges_cost = 0\n",
    "        hedges_price = 0\n",
    " \n",
    "    # Updating summaries\n",
    "    summary_trading_widget.value = nptt.NOOS_STYLE_TABLE_SUMMARY + print_summary_trading(\n",
    "        traded_ratio_before=traded_ratio_before, \n",
    "        traded_ratio_after=traded_ratio_after, \n",
    "        traded_volume_before=traded_volume_before,\n",
    "        traded_volume_after=traded_volume_after,\n",
    "        traded_cost_before=traded_cost_before, \n",
    "        traded_cost_after=traded_cost_after, \n",
    "        traded_priceavg_before=traded_priceavg_before,\n",
    "        traded_priceavg_after=traded_priceavg_after,\n",
    "    )\n",
    "    \n",
    "    summary_shaping_widget.value = nptt.NOOS_STYLE_TABLE_SUMMARY + print_summary_shaping(\n",
    "        shaping_ratio_before=shaping_ratio_before, \n",
    "        shaping_ratio_after=shaping_ratio_after, \n",
    "        shaping_volume_before=shaping_volume_before,\n",
    "        shaping_volume_after=shaping_volume_after,\n",
    "        shaping_cost_before=shaping_cost_before,\n",
    "        shaping_cost_after=shaping_cost_after,\n",
    "        shaping_priceavg_before=shaping_priceavg_before,\n",
    "        shaping_priceavg_after=shaping_priceavg_after,\n",
    "    )\n",
    "    \n",
    "    summary_hedges_widget.value = nptt.NOOS_STYLE_TABLE_SUMMARY + print_summary_hedges(\n",
    "        hedges_df=HEDGES_DF,\n",
    "        hedges_volume=hedges_volume,\n",
    "        hedges_cost=hedges_cost,\n",
    "        hedges_price=hedges_price,\n",
    "    )"
   ]
  },
  {
   "cell_type": "markdown",
   "metadata": {},
   "source": [
    "### Trading"
   ]
  },
  {
   "cell_type": "code",
   "execution_count": null,
   "metadata": {},
   "outputs": [],
   "source": [
    "summary_trading_widget"
   ]
  },
  {
   "cell_type": "markdown",
   "metadata": {},
   "source": [
    "### Shaping"
   ]
  },
  {
   "cell_type": "code",
   "execution_count": null,
   "metadata": {},
   "outputs": [],
   "source": [
    "summary_shaping_widget"
   ]
  },
  {
   "cell_type": "markdown",
   "metadata": {},
   "source": [
    "# Sidebar"
   ]
  },
  {
   "cell_type": "markdown",
   "metadata": {},
   "source": [
    "#### wholesale"
   ]
  },
  {
   "cell_type": "code",
   "execution_count": null,
   "metadata": {},
   "outputs": [],
   "source": [
    "MISSING_CALENDAR_DELIVERY = \"-\""
   ]
  },
  {
   "cell_type": "code",
   "execution_count": null,
   "metadata": {},
   "outputs": [],
   "source": [
    "indices_df = npta.domain.products.collections.IndexSet.from_pandas(products_df).to_pandas()\n",
    "indices_df.head()"
   ]
  },
  {
   "cell_type": "code",
   "execution_count": null,
   "metadata": {},
   "outputs": [],
   "source": [
    "indices_df = npta.domain.products.collections.IndexSet.from_pandas(products_df).to_pandas()\n",
    "\n",
    "products_values = indices_df.calendar_delivery.unique()\n",
    "\n",
    "\n",
    "products_base_selection = ipywidgets.SelectMultiple(\n",
    "    options=indices_df[indices_df.intraday_delivery=='BASE'].calendar_delivery,\n",
    "    value=(),\n",
    "    rows=len(products_values),\n",
    "    disabled=False\n",
    ")\n",
    "\n",
    "products_peak_selection = ipywidgets.SelectMultiple(\n",
    "    options=[i if (i in list(indices_df[indices_df.intraday_delivery=='PEAK'].calendar_delivery)) else MISSING_CALENDAR_DELIVERY\n",
    "             for i in indices_df[indices_df.intraday_delivery=='BASE'].calendar_delivery ],\n",
    "    value=(),\n",
    "    rows=len(products_values),\n",
    "    disabled=False\n",
    ")\n",
    "\n",
    "products_base_vbox = ipywidgets.VBox([ipywidgets.Label('BASE'), products_base_selection])\n",
    "products_peak_vbox = ipywidgets.VBox([ipywidgets.Label('PEAK'), products_peak_selection])\n",
    "\n",
    "products_hbox = ipywidgets.HBox([products_base_vbox, products_peak_vbox])"
   ]
  },
  {
   "cell_type": "code",
   "execution_count": null,
   "metadata": {},
   "outputs": [],
   "source": [
    "def get_products_list():\n",
    "    df=pd.DataFrame()\n",
    "    df[\"calendar_delivery\"] = products_base_selection.value + products_peak_selection.value\n",
    "    df[\"intraday_delivery\"] = ('BASE',) * len(products_base_selection.value) + ('PEAK',) * len(products_peak_selection.value)\n",
    "    df[\"asset\"] = \"PWRTE\"\n",
    "    df[\"quantity\"] = 1\n",
    "    return df[df.calendar_delivery!=MISSING_CALENDAR_DELIVERY]"
   ]
  },
  {
   "cell_type": "markdown",
   "metadata": {},
   "source": [
    "#### Interactivity"
   ]
  },
  {
   "cell_type": "code",
   "execution_count": null,
   "metadata": {},
   "outputs": [],
   "source": [
    "def update_hedges():\n",
    "    global HEDGES_DF\n",
    "    global HEDGES_VOLUMES\n",
    "    select_products_df = get_products_list()\n",
    "    net_volumes = conso_df.consumption - trades_volume_df.total_volume\n",
    "    if not select_products_df.empty:\n",
    "        select_products_volumes = npta.get_volumes_from_hedges(select_products_df)\n",
    "        HEDGES_DF = npta.get_hedges_from_volumes(net_volumes.reindex(select_products_volumes.index).fillna(0), products=select_products_df).astype({'quantity': 'int'})\n",
    "        HEDGES_DF = HEDGES_DF[HEDGES_DF.quantity!=0]\n",
    "        HEDGES_VOLUMES = npta.get_volumes_from_hedges(HEDGES_DF)\n",
    "        update_graph_hedges()\n",
    "    else:\n",
    "        HEDGES_DF = pd.DataFrame()\n",
    "        HEDGES_VOLUMES = pd.DataFrame()"
   ]
  },
  {
   "cell_type": "code",
   "execution_count": null,
   "metadata": {},
   "outputs": [],
   "source": [
    "def update_products(change):\n",
    "    update_hedges()\n",
    "    update_summary()\n",
    "\n",
    "def update_range(layout, _):\n",
    "    global START\n",
    "    global END\n",
    "    xaxis_range = layout.xaxis.range\n",
    "    \n",
    "    # range mask\n",
    "    START =  dt.datetime.fromisoformat(xaxis_range[0][:10]).astimezone(pytz.UTC)\n",
    "    END =  dt.datetime.fromisoformat(xaxis_range[1][:10]).astimezone(pytz.UTC)\n",
    "\n",
    "    update_summary()\n"
   ]
  },
  {
   "cell_type": "code",
   "execution_count": null,
   "metadata": {},
   "outputs": [],
   "source": [
    "products_base_selection.observe(update_products, 'value')\n",
    "products_peak_selection.observe(update_products, 'value')\n",
    "\n",
    "fig.layout.on_change(update_range, ('xaxis', 'range'))"
   ]
  },
  {
   "cell_type": "code",
   "execution_count": null,
   "metadata": {},
   "outputs": [],
   "source": [
    "def init_range():\n",
    "    global START\n",
    "    global END\n",
    "    if fig.layout.xaxis.range is None:\n",
    "        xaxis_range = (fig.data[1].x[0].isoformat(), fig.data[1].x[-1].isoformat())\n",
    "    else:\n",
    "        xaxis_range = fig.layout.xaxis.range\n",
    "        \n",
    "    # range mask\n",
    "    START =  dt.datetime.fromisoformat(xaxis_range[0][:10]).astimezone(pytz.UTC)\n",
    "    END =  dt.datetime.fromisoformat(xaxis_range[1][:10]).astimezone(pytz.UTC)\n",
    "\n",
    "def init():\n",
    "    update_hedges()\n",
    "    init_range()\n",
    "    \n",
    "    \n",
    "init()"
   ]
  },
  {
   "cell_type": "markdown",
   "metadata": {},
   "source": [
    "### Select instruments"
   ]
  },
  {
   "cell_type": "code",
   "execution_count": null,
   "metadata": {},
   "outputs": [],
   "source": [
    "products_hbox"
   ]
  },
  {
   "cell_type": "markdown",
   "metadata": {},
   "source": [
    "### Select strategy"
   ]
  },
  {
   "cell_type": "code",
   "execution_count": null,
   "metadata": {},
   "outputs": [],
   "source": [
    "ipywidgets.ToggleButtons(\n",
    "    options=['volume', 'value'],\n",
    "    disabled=True,\n",
    "    tooltips=['hedge to 100% traded ratio', 'hedge to zero shaping cost and minimum shaping volume'],\n",
    ")"
   ]
  },
  {
   "cell_type": "markdown",
   "metadata": {},
   "source": [
    "### Proposition"
   ]
  },
  {
   "cell_type": "code",
   "execution_count": null,
   "metadata": {},
   "outputs": [],
   "source": [
    "summary_hedges_widget"
   ]
  },
  {
   "cell_type": "code",
   "execution_count": null,
   "metadata": {},
   "outputs": [],
   "source": []
  }
 ],
 "metadata": {
  "kernelspec": {
   "display_name": "Python 3",
   "language": "python",
   "name": "python3"
  },
  "language_info": {
   "codemirror_mode": {
    "name": "ipython",
    "version": 3
   },
   "file_extension": ".py",
   "mimetype": "text/x-python",
   "name": "python",
   "nbconvert_exporter": "python",
   "pygments_lexer": "ipython3",
   "version": "3.8.6"
  },
  "toc-autonumbering": true,
  "voila": {
   "template": "neptune_flex"
  }
 },
 "nbformat": 4,
 "nbformat_minor": 4
}
