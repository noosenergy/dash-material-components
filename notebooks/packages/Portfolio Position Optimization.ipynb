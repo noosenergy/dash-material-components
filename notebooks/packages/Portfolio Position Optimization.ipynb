{
 "cells": [
  {
   "cell_type": "code",
   "execution_count": 1,
   "metadata": {},
   "outputs": [],
   "source": [
    "# Global import\n",
    "\n",
    "import datetime as dt\n",
    "import pytz\n",
    "\n",
    "import pandas as pd\n",
    "import numpy as np\n",
    "import plotly.graph_objects as go\n",
    "\n",
    "from dash_mdc_neptune import themes"
   ]
  },
  {
   "cell_type": "code",
   "execution_count": 2,
   "metadata": {},
   "outputs": [],
   "source": [
    "# Global variables\n",
    "\n",
    "S3_DATASET = \"s3://noos-prod-neptune-services/Store/Datasets/\"\n",
    "\n",
    "ASSET_NAME = \"PWRTE\"\n",
    "PORTFOLIO_NAME = \"TEST_FR\"\n",
    "PUBLISHED_AT = dt.datetime(2021, 6, 1)\n",
    "\n",
    "TABLE_COLUMNS = [\"calendar_delivery\", \"intraday_delivery\", \"quantity\"]"
   ]
  },
  {
   "cell_type": "markdown",
   "metadata": {},
   "source": [
    "# PAGE 1"
   ]
  },
  {
   "cell_type": "code",
   "execution_count": 3,
   "metadata": {},
   "outputs": [],
   "source": [
    "# Retrieve agreements\n",
    "\n",
    "agreement_volumes_df = pd.read_parquet(S3_DATASET + \"NOOS/consommation_tot_france_random_1k.parquet\")"
   ]
  },
  {
   "cell_type": "code",
   "execution_count": 4,
   "metadata": {},
   "outputs": [],
   "source": [
    "# Retrieve hedges\n",
    "\n",
    "QUERY_PARAMS = {\n",
    "    \"asset\": ASSET_NAME,\n",
    "    \"portfolio_name\": PORTFOLIO_NAME,\n",
    "}\n",
    "\n",
    "hedges_df = nptc.filter_forward_contracts(**QUERY_PARAMS)"
   ]
  },
  {
   "cell_type": "code",
   "execution_count": 9,
   "metadata": {},
   "outputs": [],
   "source": [
    "# Retrieve products\n",
    "\n",
    "QUERY_PARAMS = {\n",
    "    \"asset\": ASSET_NAME,\n",
    "    \"published_at\": PUBLISHED_AT,\n",
    "    # At least day products\n",
    "    \"min_delivery_period\": dt.timedelta(hours=8),\n",
    "}\n",
    "\n",
    "products_df = nptc.retrieve_forward_fixings(**QUERY_PARAMS)"
   ]
  },
  {
   "cell_type": "markdown",
   "metadata": {},
   "source": [
    "## SECTION 1"
   ]
  },
  {
   "cell_type": "markdown",
   "metadata": {
    "heading_collapsed": "true"
   },
   "source": [
    "### CARD 1"
   ]
  },
  {
   "cell_type": "code",
   "execution_count": 10,
   "metadata": {},
   "outputs": [],
   "source": [
    "# Extract hedge instruments\n",
    "\n",
    "indices_df = npta.domain.products.collections.IndexSet.from_pandas(products_df).to_pandas()\n",
    "\n",
    "base_deliveries_ts = indices_df[indices_df.intraday_delivery == \"BASE\"].calendar_delivery.reset_index(drop=True)\n",
    "peak_deliveries_ts = indices_df[indices_df.intraday_delivery == \"PEAK\"].calendar_delivery.reset_index(drop=True)"
   ]
  },
  {
   "cell_type": "code",
   "execution_count": 11,
   "metadata": {},
   "outputs": [],
   "source": [
    "# Extract initial hedge volumes\n",
    "\n",
    "hedge_volumes_df = npta.get_volumes_and_costs_from_trades(hedges_df)"
   ]
  },
  {
   "cell_type": "code",
   "execution_count": 12,
   "metadata": {},
   "outputs": [],
   "source": [
    "# Shared scatter configs\n",
    "\n",
    "GO_LAYOUT = go.Layout(\n",
    "    xaxis=go.layout.XAxis(\n",
    "        title=go.layout.xaxis.Title(\n",
    "            text='Local delivery',\n",
    "        )\n",
    "    ),\n",
    "    yaxis=go.layout.YAxis(\n",
    "        title=go.layout.yaxis.Title(\n",
    "            text='MWh',\n",
    "        ),\n",
    "        fixedrange=True,\n",
    "    ),\n",
    "    template=\"noos_watermark+noos_pastel+hoover_xunified+min_modebar\",\n",
    ")"
   ]
  },
  {
   "cell_type": "code",
   "execution_count": 13,
   "metadata": {},
   "outputs": [],
   "source": [
    "all_agreements = go.Scatter(\n",
    "    x = agreement_volumes_df.index,\n",
    "    y = agreement_volumes_df.consumption,\n",
    "    line_color=themes.NOOS_HTML_COLORS[\"primary\"],\n",
    "    name = \"Agreement volumes\",\n",
    "    visible = True\n",
    ")\n",
    "\n",
    "initial_trades = go.Scatter(\n",
    "    x = hedge_volumes_df.index,\n",
    "    y = hedge_volumes_df.total_volume,\n",
    "    line_color=themes.NOOS_HTML_COLORS[\"accent\"],\n",
    "    name = \"Hedge volumes\",\n",
    "    fill='tozeroy',\n",
    "    visible = True\n",
    ")\n",
    "\n",
    "trades_with_hedges = go.Scatter(\n",
    "    x = hedge_volumes_df.index,\n",
    "    y = [],\n",
    "    line_color=themes.NOOS_HTML_COLORS[\"error\"],\n",
    "    name = \"Suggested hedge volumes\",\n",
    "    mode='lines+markers',\n",
    "    visible = False\n",
    ")\n",
    "\n",
    "\n",
    "fig = go.FigureWidget(\n",
    "    data=[\n",
    "        all_agreements,\n",
    "        initial_trades,\n",
    "        trades_with_hedges,\n",
    "    ],\n",
    "    layout=GO_LAYOUT,\n",
    ")"
   ]
  },
  {
   "cell_type": "markdown",
   "metadata": {},
   "source": [
    "# DASH"
   ]
  },
  {
   "cell_type": "code",
   "execution_count": 14,
   "metadata": {},
   "outputs": [],
   "source": [
    "import jupyter_dash\n",
    "\n",
    "from dash import dcc, html\n",
    "\n",
    "import dash_mdc_neptune as mdc"
   ]
  },
  {
   "cell_type": "markdown",
   "metadata": {},
   "source": [
    "## LAYOUT"
   ]
  },
  {
   "cell_type": "code",
   "execution_count": 15,
   "metadata": {},
   "outputs": [],
   "source": [
    "# Display graph & summary in sections\n",
    "graph = dcc.Graph(\n",
    "    id=\"graph\",\n",
    "    figure=fig,\n",
    "    style={\"height\": \"100%\", \"width\": \"100%\"},\n",
    ")\n",
    "\n",
    "table = mdc.Table(\n",
    "    id=\"table\",\n",
    "    columns=[{\"field\": c.replace(\"_\", \" \").capitalize(), \"width\": 200} for c in TABLE_COLUMNS],\n",
    "    rows=[],\n",
    ")"
   ]
  },
  {
   "cell_type": "code",
   "execution_count": 16,
   "metadata": {},
   "outputs": [],
   "source": [
    "# Dashboard sections\n",
    "\n",
    "section_summary = mdc.Section(\n",
    "    id=\"section-summary\",\n",
    "    children=table,\n",
    "    size=3,\n",
    "    cards=[{\"title\": \"Shaping summary\"}],\n",
    ")\n",
    "\n",
    "section_graph = mdc.Section(\n",
    "    id=\"section-graph\",\n",
    "    children=graph,\n",
    "    cards=[{\"title\": \"Portfolio profile\"}],\n",
    ")"
   ]
  },
  {
   "cell_type": "code",
   "execution_count": 17,
   "metadata": {},
   "outputs": [],
   "source": [
    "# Dashboard sidebar\n",
    "\n",
    "base_dropdown = mdc.Dropdown(\n",
    "    id=\"dropdown-base\",\n",
    "    labelText=\"Base\",\n",
    "    width=180,\n",
    "    options=base_deliveries_ts.to_list(),\n",
    ")\n",
    "peak_dropdown = mdc.Dropdown(\n",
    "    id=\"dropdown-peak\",\n",
    "    labelText=\"Peak\",\n",
    "    width=180,\n",
    "    options=peak_deliveries_ts.to_list(),\n",
    ")\n",
    "\n",
    "strategy_toggle = mdc.Toggle(\n",
    "    id=\"toggle-strategy\",\n",
    "    options=[\"Volume\", \"Value\"],\n",
    ")\n",
    "\n",
    "sidebar = mdc.SideBar(\n",
    "    children=[base_dropdown, peak_dropdown, strategy_toggle],\n",
    "    settings=[\"Select product\", \"\", \"Select strategy\"],\n",
    ")"
   ]
  },
  {
   "cell_type": "code",
   "execution_count": 18,
   "metadata": {},
   "outputs": [],
   "source": [
    "# Dashboard layout\n",
    "\n",
    "page = mdc.Page(\n",
    "    orientation=\"columns\",\n",
    "    children=[section_summary, section_graph],\n",
    ")\n",
    "navbar = mdc.NavBar(title=\"Portfolio Position Optimization\")\n",
    "dashboard = mdc.Dashboard(children=[navbar, sidebar, page])\n",
    "\n",
    "store = dcc.Store(id='session-store', storage_type='session')\n",
    "\n",
    "layout = mdc.Box(children=[store, dashboard])"
   ]
  },
  {
   "cell_type": "markdown",
   "metadata": {},
   "source": [
    "## APP"
   ]
  },
  {
   "cell_type": "code",
   "execution_count": 23,
   "metadata": {},
   "outputs": [],
   "source": [
    "from jupyter_dash import JupyterDash\n",
    "from dash.dependencies import Input, Output, State\n",
    "from dash.exceptions import PreventUpdate\n",
    "\n",
    "\n",
    "app = JupyterDash(__name__)\n",
    "app.layout = layout"
   ]
  },
  {
   "cell_type": "code",
   "execution_count": 24,
   "metadata": {},
   "outputs": [],
   "source": [
    "# Store hedges and volumes in browser\n",
    "\n",
    "\n",
    "def get_initial_hedges(base_products, peak_products, asset_name=ASSET_NAME):\n",
    "    df = pd.DataFrame()\n",
    "    calendar_products = []\n",
    "    intraday_products = []\n",
    "\n",
    "    if base_products:\n",
    "        calendar_products += base_deliveries_ts.loc[base_products].to_list()\n",
    "        intraday_products += [\"BASE\"] * len(base_products)\n",
    "    if peak_products:\n",
    "        calendar_products += peak_deliveries_ts.loc[peak_products].to_list()\n",
    "        intraday_products += [\"PEAK\"] * len(peak_products)\n",
    "\n",
    "    df[\"calendar_delivery\"] = calendar_products\n",
    "    df[\"intraday_delivery\"] = intraday_products\n",
    "    df[\"asset\"] = asset_name\n",
    "    df[\"quantity\"] = 1\n",
    "\n",
    "    return df\n",
    "\n",
    "\n",
    "def get_suggested_hedges(base_products, peak_products, net_volumes):\n",
    "    initial_hedges_df = get_initial_hedges(base_products, peak_products)\n",
    "    initial_hedge_volumes_df = npta.get_volumes_from_hedges(initial_hedges_df)\n",
    "\n",
    "    df = npta.get_hedges_from_volumes(\n",
    "        net_volumes.reindex(initial_hedge_volumes_df.index).fillna(0),\n",
    "        products=initial_hedges_df,\n",
    "    )\n",
    "    df = df.astype({'quantity': 'int'})\n",
    "    df = df[~(df.quantity == 0)]\n",
    "\n",
    "    return df\n",
    "\n",
    "\n",
    "def get_default_store_state():\n",
    "    net_volumes =  agreement_volumes_df.consumption - hedge_volumes_df.total_volume\n",
    "    net_volumes = net_volumes.fillna(0)\n",
    "\n",
    "    return {\n",
    "        \"hedges\": '{}',\n",
    "        \"hedge_volumes\": '[]',\n",
    "        \"net_volumes\": net_volumes.to_json(orient=\"index\", date_format=\"iso\"),\n",
    "    }\n",
    "\n",
    "\n",
    "def update_store_state(store, base_products, peak_products):\n",
    "    # Fetch hedge instruments\n",
    "    net_volumes = pd.read_json(store[\"net_volumes\"], typ='series')\n",
    "\n",
    "    # Apply hedging strategy\n",
    "    suggested_hedges_df = get_suggested_hedges(base_products, peak_products, net_volumes)\n",
    "    suggested_hedge_volumes_df = npta.get_volumes_from_hedges(suggested_hedges_df)\n",
    "\n",
    "    store[\"hedges\"] = suggested_hedges_df[TABLE_COLUMNS].to_json(orient=\"records\")\n",
    "    store[\"hedge_volumes\"] = suggested_hedge_volumes_df.to_json(orient=\"index\", date_format=\"iso\")\n",
    "    return store\n",
    "\n",
    "\n",
    "@app.callback(\n",
    "    Output(component_id='session-store', component_property='data'),\n",
    "    [\n",
    "        Input(component_id='dropdown-base', component_property='selected'),\n",
    "        Input(component_id='dropdown-peak', component_property='selected'),\n",
    "    ],\n",
    "    State(component_id='session-store', component_property='data'),\n",
    ")\n",
    "def on_select(base, peak, store):\n",
    "    # Initial callback on page load\n",
    "    if not store:\n",
    "        return get_default_store_state()\n",
    "\n",
    "    # No selection\n",
    "    data = store\n",
    "    if not base and not peak:\n",
    "        raise PreventUpdate\n",
    "    \n",
    "    # Update store state\n",
    "    return update_store_state(data, base, peak)"
   ]
  },
  {
   "cell_type": "code",
   "execution_count": 25,
   "metadata": {},
   "outputs": [],
   "source": [
    "# Update hedges and volumes in components\n",
    "\n",
    "\n",
    "@app.callback(\n",
    "    [\n",
    "        Output(component_id='table', component_property='rows'),\n",
    "        Output(component_id='graph', component_property='figure'),\n",
    "    ],\n",
    "    Input(component_id='session-store', component_property='modified_timestamp'),\n",
    "    State(component_id='session-store', component_property='data'),\n",
    ")\n",
    "def update_components(timestamp, store):\n",
    "    # Initial callback on page load\n",
    "    if timestamp is None or store is None:\n",
    "        raise PreventUpdate\n",
    "\n",
    "    # Update table\n",
    "    suggested_hedges_df = pd.read_json(store[\"hedges\"], typ='frame')\n",
    "    rows = suggested_hedges_df.to_dict(orient=\"records\")\n",
    "\n",
    "    # Update graph\n",
    "    suggested_hedge_volumes_df = pd.read_json(store[\"hedge_volumes\"], typ='series')\n",
    "    fig.data[2].visible = True\n",
    "    fig.data[2].y = hedge_volumes_df.total_volume + suggested_hedge_volumes_df\n",
    "\n",
    "    return [rows, fig]"
   ]
  },
  {
   "cell_type": "code",
   "execution_count": 27,
   "metadata": {},
   "outputs": [
    {
     "name": "stdout",
     "output_type": "stream",
     "text": [
      "Dash app running on http://0.0.0.0:8001/\n"
     ]
    },
    {
     "name": "stderr",
     "output_type": "stream",
     "text": [
      "/opt/conda/lib/python3.8/site-packages/jupyter_dash/jupyter_app.py:139: UserWarning:\n",
      "\n",
      "The 'environ['werkzeug.server.shutdown']' function is deprecated and will be removed in Werkzeug 2.1.\n",
      "\n"
     ]
    }
   ],
   "source": [
    "app.run_server(\n",
    "    mode='external', host=\"0.0.0.0\", port=8001, debug=False\n",
    ")"
   ]
  },
  {
   "cell_type": "code",
   "execution_count": null,
   "metadata": {},
   "outputs": [],
   "source": []
  }
 ],
 "metadata": {
  "kernelspec": {
   "display_name": "Python 3",
   "language": "python",
   "name": "python3"
  },
  "language_info": {
   "codemirror_mode": {
    "name": "ipython",
    "version": 3
   },
   "file_extension": ".py",
   "mimetype": "text/x-python",
   "name": "python",
   "nbconvert_exporter": "python",
   "pygments_lexer": "ipython3",
   "version": "3.8.6"
  },
  "toc-autonumbering": true,
  "voila": {
   "template": "neptune_flex"
  }
 },
 "nbformat": 4,
 "nbformat_minor": 4
}
