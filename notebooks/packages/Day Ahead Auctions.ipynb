{
 "cells": [
  {
   "cell_type": "code",
   "execution_count": null,
   "metadata": {},
   "outputs": [],
   "source": [
    "! pip install dash-dangerously-set-inner-html"
   ]
  },
  {
   "cell_type": "code",
   "execution_count": null,
   "metadata": {},
   "outputs": [],
   "source": [
    "# Global import\n",
    "\n",
    "import datetime as dt\n",
    "\n",
    "import pandas as pd\n",
    "import plotly.graph_objects as go\n",
    "\n",
    "from dash_mdc_neptune import themes"
   ]
  },
  {
   "cell_type": "code",
   "execution_count": null,
   "metadata": {},
   "outputs": [],
   "source": [
    "# Global variables\n",
    "\n",
    "TODAY = pd.to_datetime(dt.date.today(), utc=True)\n",
    "\n",
    "CURVE_UID = \"FWD_PWRTE_H_DA\"\n",
    "PUBLISHED_AT = TODAY - pd.tseries.offsets.Day(30)"
   ]
  },
  {
   "cell_type": "markdown",
   "metadata": {},
   "source": [
    "# PAGE 1"
   ]
  },
  {
   "cell_type": "code",
   "execution_count": null,
   "metadata": {},
   "outputs": [],
   "source": [
    "# Retrieve auctions\n",
    "\n",
    "query_params = {\n",
    "    \"curve_uid\": CURVE_UID,\n",
    "    \"curve_type\": \"FIXING\",\n",
    "    \"published_at\": PUBLISHED_AT,\n",
    "}\n",
    "\n",
    "ts_da = nptc.retrieve_time_series(**query_params)"
   ]
  },
  {
   "cell_type": "code",
   "execution_count": null,
   "metadata": {},
   "outputs": [],
   "source": [
    "# Format auctions\n",
    "\n",
    "df_da = pd.DataFrame(ts_da, columns=['price'])\n",
    "df_da = df_da.reset_index().rename(columns={\"index\": \"delivery_from\"})\n",
    "\n",
    "# Add auction date and period\n",
    "df_da = npta.convert_utc_to_date_and_sp(\n",
    "    df_da, timezone_str=\"Europe/Paris\", frequency_timedelta=dt.timedelta(minutes=60)\n",
    ")\n",
    "\n",
    "# Add local delivery\n",
    "df_da[\"delivery_from_local\"] = df_da.delivery_from.dt.tz_convert(\"Europe/Paris\")"
   ]
  },
  {
   "cell_type": "markdown",
   "metadata": {},
   "source": [
    "## SECTION 1"
   ]
  },
  {
   "cell_type": "markdown",
   "metadata": {},
   "source": [
    "### CARD 1"
   ]
  },
  {
   "cell_type": "code",
   "execution_count": null,
   "metadata": {},
   "outputs": [],
   "source": [
    "# Extract latest auctions\n",
    "\n",
    "df_latest_da = df_da.tail(24)\n",
    "df_latest_da = df_latest_da[\n",
    "    [\"settlement_date\", \"settlement_period_id\", \"price\", \"delivery_from_local\"]\n",
    "]\n",
    "df_latest_da = df_latest_da.rename(\n",
    "    columns={\n",
    "        \"settlement_date\": \"auction date\",\n",
    "        \"settlement_period_id\": \"auction period\",\n",
    "        \"price\": \"€/MWh\",\n",
    "        \"delivery_from_local\": \"local delivery\",\n",
    "    }\n",
    ")"
   ]
  },
  {
   "cell_type": "code",
   "execution_count": null,
   "metadata": {},
   "outputs": [],
   "source": [
    "# Format table\n",
    "\n",
    "df_styler = df_latest_da.style\n",
    "df_styler = df_styler.hide_index()\n",
    "df_styler = df_styler.background_gradient(\n",
    "    axis=0, gmap=df_latest_da[\"€/MWh\"], cmap=themes.matplotlib.noos_diverging\n",
    ")\n",
    "df_styler = df_styler.format({\"€/MWh\": \"{:,.2f}\", \"hour\": \"{:,.0f}\"})\n",
    "df_styler = df_styler.set_table_attributes(\"style='font-size: 0.8rem'\")"
   ]
  },
  {
   "cell_type": "markdown",
   "metadata": {},
   "source": [
    "## SECTION 2"
   ]
  },
  {
   "cell_type": "code",
   "execution_count": null,
   "metadata": {},
   "outputs": [],
   "source": [
    "# Shared heatmap configs\n",
    "\n",
    "GO_LAYOUT = go.Layout(\n",
    "    xaxis=go.layout.XAxis(\n",
    "        title=go.layout.xaxis.Title(\n",
    "            text='local delivery date',\n",
    "        )\n",
    "    ),\n",
    "    yaxis=go.layout.YAxis(\n",
    "        title=go.layout.yaxis.Title(\n",
    "            text='local delivery hour',\n",
    "        )\n",
    "    ),\n",
    "    template=\"noos_watermark+noos_base+noos_colorscale+min_modebar+hoover_xunified\",\n",
    ")\n",
    "\n",
    "GO_HEATMAP_KWARGS = {\n",
    "    \"colorscale\": themes.NOOS_PALETTE_DIVERGING,\n",
    "    \"colorbar\": {\"title\": \"€/MWh\"},\n",
    "    \"hovertemplate\": (\n",
    "        \"delivery date: %{x:%Y-%m-%d}<br>\"\n",
    "        \"delivery hour: %{y:.0f}<br>\"\n",
    "        \"price: %{z:.2f}<extra></extra>\"\n",
    "    ), \n",
    "}"
   ]
  },
  {
   "cell_type": "code",
   "execution_count": null,
   "metadata": {},
   "outputs": [],
   "source": [
    "# Extract heatmap data\n",
    "\n",
    "df_heatmap_da = df_da.set_index(\"delivery_from_local\")\n",
    "\n",
    "df_heatmap_da[\"date\"] = df_heatmap_da.index.date.astype(\"str\")\n",
    "df_heatmap_da[\"hour\"] = df_heatmap_da.index.hour"
   ]
  },
  {
   "cell_type": "markdown",
   "metadata": {},
   "source": [
    "### CARD 1"
   ]
  },
  {
   "cell_type": "code",
   "execution_count": null,
   "metadata": {},
   "outputs": [],
   "source": [
    "# Weekly heatmap\n",
    "\n",
    "wtd_date = PUBLISHED_AT - pd.tseries.offsets.Week(1)\n",
    "df_wtd_da = df_heatmap_da[wtd_date.date().isoformat():]\n",
    "\n",
    "wtd_data = go.Heatmap(\n",
    "    z=df_wtd_da.price,\n",
    "    x=df_wtd_da.date,\n",
    "    y=df_wtd_da.hour,\n",
    "    **GO_HEATMAP_KWARGS\n",
    ")\n",
    "\n",
    "wtd_fig = go.FigureWidget(data=wtd_data, layout=GO_LAYOUT)"
   ]
  },
  {
   "cell_type": "markdown",
   "metadata": {},
   "source": [
    "### CARD 3"
   ]
  },
  {
   "cell_type": "code",
   "execution_count": null,
   "metadata": {},
   "outputs": [],
   "source": [
    "# Monthly heatmap\n",
    "\n",
    "mtd_date = PUBLISHED_AT - pd.tseries.offsets.Week(4)\n",
    "df_mtd_da = df_heatmap_da[mtd_date.date().isoformat():]\n",
    "\n",
    "mtd_data = go.Heatmap(\n",
    "    z=df_mtd_da.price,\n",
    "    x=df_mtd_da.date,\n",
    "    y=df_mtd_da.hour,\n",
    "    **GO_HEATMAP_KWARGS\n",
    ")\n",
    "\n",
    "mtd_fig = go.FigureWidget(data=mtd_data, layout=GO_LAYOUT)"
   ]
  },
  {
   "cell_type": "markdown",
   "metadata": {},
   "source": [
    "### CARD 2"
   ]
  },
  {
   "cell_type": "code",
   "execution_count": null,
   "metadata": {},
   "outputs": [],
   "source": [
    "# Quarterly heatmap\n",
    "\n",
    "qtd_date = PUBLISHED_AT - pd.tseries.offsets.Week(12)\n",
    "df_qtd_da = df_heatmap_da[qtd_date.date().isoformat():]\n",
    "\n",
    "qtd_data = go.Heatmap(\n",
    "    z=df_qtd_da.price,\n",
    "    x=df_qtd_da.date,\n",
    "    y=df_qtd_da.hour,\n",
    "    **GO_HEATMAP_KWARGS\n",
    ")\n",
    "\n",
    "qtd_fig = go.FigureWidget(data=qtd_data, layout=GO_LAYOUT)"
   ]
  },
  {
   "cell_type": "markdown",
   "metadata": {},
   "source": [
    "# DASH COMPONENTS"
   ]
  },
  {
   "cell_type": "code",
   "execution_count": null,
   "metadata": {},
   "outputs": [],
   "source": [
    "import jupyter_dash\n",
    "\n",
    "import dash_dangerously_set_inner_html as html\n",
    "from dash import dcc\n",
    "\n",
    "import dash_mdc_neptune as mdc"
   ]
  },
  {
   "cell_type": "code",
   "execution_count": null,
   "metadata": {},
   "outputs": [],
   "source": [
    "table = html.DangerouslySetInnerHTML(df_styler.to_html())\n",
    "table_section = mdc.Section(\n",
    "    id=\"section-table\",\n",
    "    size=3,\n",
    "    children=table,\n",
    "    cards=[{\"title\": \"Latest\"}],\n",
    ")\n",
    "\n",
    "extras = {\n",
    "    \"style\": {\"height\": \"100%\", \"width\": \"100%\"},\n",
    "}\n",
    "wtd_graph = dcc.Graph(\n",
    "    id=\"weekly-graph\",\n",
    "    figure=wtd_fig,\n",
    "    **extras\n",
    ")\n",
    "mtd_graph = dcc.Graph(\n",
    "    id=\"monthly-graph\",\n",
    "    figure=mtd_fig,\n",
    "    **extras\n",
    ")\n",
    "qtd_graph = dcc.Graph(\n",
    "    id=\"quarterly-graph\",\n",
    "    figure=qtd_fig,\n",
    "    **extras\n",
    ")\n",
    "graph_tab = mdc.Tab(\n",
    "    id=\"tab-graph\",\n",
    "    children=[wtd_graph, mtd_graph, qtd_graph],\n",
    "    tabs=[\n",
    "        {\"label\": \"Last week\"},\n",
    "        {\"label\": \"Last month\"},\n",
    "        {\"label\": \"Last quarter\"},\n",
    "    ],\n",
    ")\n",
    "graph_section = mdc.Section(\n",
    "    id=\"section-graph\",\n",
    "    children=graph_tab,\n",
    "    cards=[{\"title\": \"To Date\"}],\n",
    ")\n",
    "\n",
    "page = mdc.Page(children=[table_section, graph_section])\n",
    "navbar = mdc.NavBar(title=\"Day-Ahead Auctions\")\n",
    "\n",
    "layout = mdc.Dashboard(children=[navbar, page])"
   ]
  },
  {
   "cell_type": "code",
   "execution_count": null,
   "metadata": {},
   "outputs": [],
   "source": [
    "from jupyter_dash import JupyterDash\n",
    "\n",
    "\n",
    "app = JupyterDash(__name__)\n",
    "app.layout = layout\n",
    "\n",
    "app.run_server(mode='external', host=\"0.0.0.0\", port=8001, debug=False)"
   ]
  },
  {
   "cell_type": "code",
   "execution_count": null,
   "metadata": {},
   "outputs": [],
   "source": []
  }
 ],
 "metadata": {
  "kernelspec": {
   "display_name": "Python 3",
   "language": "python",
   "name": "python3"
  },
  "language_info": {
   "codemirror_mode": {
    "name": "ipython",
    "version": 3
   },
   "file_extension": ".py",
   "mimetype": "text/x-python",
   "name": "python",
   "nbconvert_exporter": "python",
   "pygments_lexer": "ipython3",
   "version": "3.8.6"
  },
  "toc-autonumbering": true,
  "voila": {
   "template": "neptune_flex"
  }
 },
 "nbformat": 4,
 "nbformat_minor": 4
}
