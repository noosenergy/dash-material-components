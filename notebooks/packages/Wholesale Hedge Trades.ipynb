{
 "cells": [
  {
   "cell_type": "code",
   "execution_count": null,
   "id": "marked-terrain",
   "metadata": {},
   "outputs": [],
   "source": [
    "# Global import\n",
    "\n",
    "import datetime as dt\n",
    "\n",
    "import pandas as pd\n",
    "import numpy as np\n",
    "import plotly.graph_objects as go\n",
    "\n",
    "from dash_mdc_neptune import themes"
   ]
  },
  {
   "cell_type": "code",
   "execution_count": null,
   "id": "geographic-kingston",
   "metadata": {},
   "outputs": [],
   "source": [
    "# Global variables\n",
    "\n",
    "ASSET_NAME = \"PWRTE\"\n",
    "PORTFOLIO_NAME = \"TEST_FR\"\n",
    "\n",
    "COLUMN_NAMES = npta.definitions.TRADE_DATE_COLUMNS"
   ]
  },
  {
   "cell_type": "markdown",
   "id": "lesser-tunnel",
   "metadata": {},
   "source": [
    "# PAGE 1"
   ]
  },
  {
   "cell_type": "code",
   "execution_count": null,
   "id": "joint-study",
   "metadata": {},
   "outputs": [],
   "source": [
    "# Retrieve trades\n",
    "\n",
    "query_params = {\n",
    "    \"asset\": ASSET_NAME,\n",
    "    \"portfolio_name\": PORTFOLIO_NAME,\n",
    "}\n",
    "\n",
    "trades_df = nptc.filter_forward_contracts(**query_params)"
   ]
  },
  {
   "cell_type": "markdown",
   "id": "royal-quarter",
   "metadata": {},
   "source": [
    "## SECTION 1"
   ]
  },
  {
   "cell_type": "markdown",
   "id": "consistent-storage",
   "metadata": {},
   "source": [
    "### CARD 1"
   ]
  },
  {
   "cell_type": "code",
   "execution_count": null,
   "id": "single-technician",
   "metadata": {},
   "outputs": [],
   "source": [
    "# Format trades\n",
    "\n",
    "all_df = trades_df[COLUMN_NAMES]\n",
    "latest_df = all_df[all_df.traded_at==all_df.traded_at.max()]"
   ]
  },
  {
   "cell_type": "markdown",
   "id": "acoustic-conjunction",
   "metadata": {},
   "source": [
    "### CARD 2"
   ]
  },
  {
   "cell_type": "code",
   "execution_count": null,
   "id": "circular-comedy",
   "metadata": {},
   "outputs": [],
   "source": [
    "all_volume_df = npta.get_volumes_and_costs_from_trades(all_df)\n",
    "latest_volume_df = npta.get_volumes_and_costs_from_trades(latest_df)"
   ]
  },
  {
   "cell_type": "code",
   "execution_count": null,
   "id": "anticipated-tyler",
   "metadata": {},
   "outputs": [],
   "source": [
    "# Shared heatmap configs\n",
    "\n",
    "GO_LAYOUT = go.Layout(\n",
    "    xaxis=go.layout.XAxis(\n",
    "        title=go.layout.xaxis.Title(\n",
    "            text='local delivery date',\n",
    "        )\n",
    "    ),\n",
    "    yaxis=go.layout.YAxis(\n",
    "        title=go.layout.yaxis.Title(\n",
    "            text='MWh',\n",
    "        ),\n",
    "        side=\"left\",\n",
    "        overlaying='y2',\n",
    "    ),\n",
    "    yaxis2=go.layout.YAxis(\n",
    "        title=go.layout.yaxis.Title(\n",
    "            text='EUR/MWh',\n",
    "        ),\n",
    "        side=\"right\",\n",
    "    ),\n",
    "    template=\"noos_watermark+noos_base+hoover_xunified+min_modebar\",\n",
    ")"
   ]
  },
  {
   "cell_type": "code",
   "execution_count": null,
   "id": "incredible-conjunction",
   "metadata": {},
   "outputs": [],
   "source": [
    "all_volume = go.Scatter(\n",
    "    x = all_volume_df.index,\n",
    "    y = all_volume_df.total_volume * 2,\n",
    "    line_color=themes.NOOS_HTML_COLORS[\"gray\"],\n",
    "    name = \"Volumes\",\n",
    "    fill='tozeroy',\n",
    "    yaxis=\"y\",\n",
    "    visible = True\n",
    ")\n",
    "\n",
    "all_price = go.Scatter(\n",
    "    x = all_volume_df.index,\n",
    "    y = all_volume_df.price_average,\n",
    "    line_color=themes.NOOS_HTML_COLORS[\"accent\"],\n",
    "    name = \"Prices\",\n",
    "    visible = True,\n",
    "    yaxis=\"y2\"\n",
    ")\n",
    "\n",
    "latest_volume = go.Scatter(\n",
    "    x = latest_volume_df.index,\n",
    "    y = latest_volume_df.total_volume * 2,\n",
    "    line_color=themes.NOOS_HTML_COLORS[\"gray\"],\n",
    "    name = \"Volumes\",\n",
    "    fill='tozeroy',\n",
    "    yaxis=\"y\",\n",
    "    visible = False\n",
    ")\n",
    "\n",
    "latest_price = go.Scatter(\n",
    "    x = latest_volume_df.index,\n",
    "    y = latest_volume_df.price_average,\n",
    "    line_color=themes.NOOS_HTML_COLORS[\"accent\"],\n",
    "    name = \"Prices\",\n",
    "    visible = False,\n",
    "    yaxis=\"y2\"\n",
    ")\n",
    "\n",
    "fig = go.FigureWidget(\n",
    "    data=[\n",
    "        all_volume,\n",
    "        all_price,\n",
    "        latest_volume,\n",
    "        latest_price,\n",
    "    ],\n",
    "    layout=GO_LAYOUT,\n",
    ")"
   ]
  },
  {
   "cell_type": "markdown",
   "id": "earlier-dayton",
   "metadata": {},
   "source": [
    "# DASH"
   ]
  },
  {
   "cell_type": "code",
   "execution_count": null,
   "id": "dress-origin",
   "metadata": {},
   "outputs": [],
   "source": [
    "import jupyter_dash\n",
    "\n",
    "from dash import dcc\n",
    "\n",
    "import dash_mdc_neptune as mdc"
   ]
  },
  {
   "cell_type": "markdown",
   "id": "compact-extension",
   "metadata": {},
   "source": [
    "## LAYOUT"
   ]
  },
  {
   "cell_type": "code",
   "execution_count": null,
   "id": "ongoing-currency",
   "metadata": {},
   "outputs": [],
   "source": [
    "# Display graph & table in tabs\n",
    "graph = dcc.Graph(\n",
    "    id=\"graph\",\n",
    "    figure=fig,\n",
    "    style={\"height\": \"100%\", \"width\": \"100%\"},\n",
    ")\n",
    "table = mdc.Table(\n",
    "    id=\"table\",\n",
    "    columns=[{\"field\": c.replace(\"_\", \" \").capitalize(), \"width\": 200} for c in all_df.columns],\n",
    "    rows=all_df.to_dict(orient='records'),\n",
    ")\n",
    "\n",
    "tab = mdc.Tab(\n",
    "    children=[table, graph],\n",
    "    tabs=[\n",
    "        {\"label\": \"Trade blotter\"},\n",
    "        {\"label\": \"Trade profile\"},\n",
    "    ],\n",
    ")"
   ]
  },
  {
   "cell_type": "code",
   "execution_count": null,
   "id": "useful-jewelry",
   "metadata": {},
   "outputs": [],
   "source": [
    "# Visualize based on toggles\n",
    "toggle = mdc.Toggle(\n",
    "    id=\"toggle\",\n",
    "    options=['All', 'Last'],\n",
    ")\n",
    "\n",
    "box = mdc.Box(children=[toggle, tab])"
   ]
  },
  {
   "cell_type": "code",
   "execution_count": null,
   "id": "sufficient-import",
   "metadata": {},
   "outputs": [],
   "source": [
    "# Dashboard layout\n",
    "section = mdc.Section(\n",
    "    children=box,\n",
    "    cards=[{\"title\": \"Custom portfolio\"}],\n",
    ")\n",
    "\n",
    "page = mdc.Page(children=section)\n",
    "navbar = mdc.NavBar(title=\"Wholesale Hedge Trades\")\n",
    "\n",
    "layout = mdc.Dashboard(children=[navbar, page])"
   ]
  },
  {
   "cell_type": "markdown",
   "id": "small-difference",
   "metadata": {},
   "source": [
    "## APP"
   ]
  },
  {
   "cell_type": "code",
   "execution_count": null,
   "id": "opening-kenya",
   "metadata": {},
   "outputs": [],
   "source": [
    "from jupyter_dash import JupyterDash\n",
    "from dash.dependencies import Input, Output\n",
    "\n",
    "\n",
    "app = JupyterDash(__name__)\n",
    "app.layout = layout\n",
    "\n",
    "\n",
    "@app.callback(\n",
    "    Output(component_id='table', component_property='rows'),\n",
    "    Output(component_id='graph', component_property='figure'),\n",
    "    Input(component_id='toggle', component_property='selected'),\n",
    ")\n",
    "def update_tabs(value):\n",
    "    if value == 0:\n",
    "        rows = all_df.to_dict('records')\n",
    "        fig.data[2].visible=False\n",
    "        fig.data[3].visible=False\n",
    "        fig.data[0].visible=True\n",
    "        fig.data[1].visible=True\n",
    "    else:\n",
    "        rows = latest_df.to_dict('records')\n",
    "        fig.data[0].visible=False\n",
    "        fig.data[1].visible=False\n",
    "        fig.data[2].visible=True\n",
    "        fig.data[3].visible=True\n",
    "    return [rows, fig]\n",
    "\n",
    "app.run_server(mode='external', host=\"0.0.0.0\", port=8001)"
   ]
  },
  {
   "cell_type": "code",
   "execution_count": null,
   "id": "literary-albany",
   "metadata": {},
   "outputs": [],
   "source": []
  }
 ],
 "metadata": {
  "kernelspec": {
   "display_name": "Python 3",
   "language": "python",
   "name": "python3"
  },
  "language_info": {
   "codemirror_mode": {
    "name": "ipython",
    "version": 3
   },
   "file_extension": ".py",
   "mimetype": "text/x-python",
   "name": "python",
   "nbconvert_exporter": "python",
   "pygments_lexer": "ipython3",
   "version": "3.8.6"
  },
  "toc-autonumbering": true,
  "voila": {
   "template": "neptune_flex"
  }
 },
 "nbformat": 4,
 "nbformat_minor": 5
}
