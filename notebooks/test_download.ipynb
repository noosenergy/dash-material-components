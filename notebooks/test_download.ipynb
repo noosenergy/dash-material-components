{
 "cells": [
  {
   "cell_type": "code",
   "execution_count": 1,
   "id": "everyday-remainder",
   "metadata": {},
   "outputs": [],
   "source": [
    "import dash_mdc_neptune as mdc\n",
    "\n",
    "from dash import dcc, Input, Output\n",
    "import jupyter_dash"
   ]
  },
  {
   "cell_type": "code",
   "execution_count": 2,
   "id": "subjective-secondary",
   "metadata": {},
   "outputs": [],
   "source": [
    "text_1a = mdc.Typography(\n",
    "    id=\"text-1a\",\n",
    "    text=\"Content...\",\n",
    "    component=\"p\",\n",
    "    variant=\"body2\",\n",
    ")\n",
    "text_2a = mdc.Typography(\n",
    "    id=\"text-2a\",\n",
    "    text=\"Other content...\",\n",
    "    component=\"p\",\n",
    "    variant=\"body2\",\n",
    ")\n",
    "\n",
    "section_1 = mdc.Section(\n",
    "    id=\"section-1\",\n",
    "    orientation=\"columns\",\n",
    "    children=[text_1a],\n",
    "    cards=[{\"title\": \"Card 1a\"}]\n",
    ")\n",
    "section_2 = mdc.Section(\n",
    "    id=\"section-2\",\n",
    "    size=3,\n",
    "    children=[text_2a],\n",
    "    orientation=\"rows\",\n",
    "    cards=[{\"title\": \"Card 2a\", \"downloadable\": True}]\n",
    ")\n",
    "\n",
    "download = dcc.Download(id=\"download\")\n",
    "\n",
    "page = mdc.Page(orientation=\"columns\", children=[section_1, section_2, download])\n",
    "navbar = mdc.NavBar(title=\"Custom dash\")\n",
    "\n",
    "layout = mdc.Dashboard(children=[navbar, page])"
   ]
  },
  {
   "cell_type": "code",
   "execution_count": null,
   "id": "novel-gates",
   "metadata": {},
   "outputs": [],
   "source": [
    "app = jupyter_dash.JupyterDash(__name__)\n",
    "app.layout = layout\n",
    "\n",
    "@app.callback(\n",
    "    Output(\"download\", \"data\"),\n",
    "    [\n",
    "        Input(\"section-2\", \"downloaded\"),\n",
    "        Input(\"text-2a\", \"text\"),\n",
    "    ],\n",
    "    prevent_initial_call=True,\n",
    ")\n",
    "def on_download_click(downloaded, text):\n",
    "    return dict(content=text, filename=\"test.txt\")\n",
    "\n",
    "app.run_server(mode='jupyterlab', host=\"0.0.0.0\", port=8001, debug=False)"
   ]
  },
  {
   "cell_type": "code",
   "execution_count": null,
   "id": "26f11796",
   "metadata": {},
   "outputs": [],
   "source": []
  }
 ],
 "metadata": {
  "kernelspec": {
   "display_name": "Python 3 (ipykernel)",
   "language": "python",
   "name": "python3"
  },
  "language_info": {
   "codemirror_mode": {
    "name": "ipython",
    "version": 3
   },
   "file_extension": ".py",
   "mimetype": "text/x-python",
   "name": "python",
   "nbconvert_exporter": "python",
   "pygments_lexer": "ipython3",
   "version": "3.11.4"
  }
 },
 "nbformat": 4,
 "nbformat_minor": 5
}
