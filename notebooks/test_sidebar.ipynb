{
 "cells": [
  {
   "cell_type": "code",
   "execution_count": null,
   "id": "congressional-chile",
   "metadata": {},
   "outputs": [],
   "source": [
    "from jupyter_dash import JupyterDash\n",
    "from dash.dependencies import Input, Output\n",
    "\n",
    "import dash_mdc_neptune as mdc"
   ]
  },
  {
   "cell_type": "code",
   "execution_count": null,
   "id": "annual-interview",
   "metadata": {},
   "outputs": [],
   "source": [
    "text = mdc.Typography(\n",
    "    id=\"text\",\n",
    "    text=\"Content...\",\n",
    "    component=\"p\",\n",
    "    variant=\"body2\",\n",
    ")\n",
    "text_2 = mdc.Typography(\n",
    "    id=\"text-2\",\n",
    "    text=\"Other content...\",\n",
    "    component=\"p\",\n",
    "    variant=\"body2\",\n",
    ")\n",
    "\n",
    "tab = mdc.Tab(\n",
    "    children=[text, text_2],\n",
    "    tabs=[{\"label\": \"1a\"}, {\"label\": \"1b\"}]\n",
    ")\n",
    "section = mdc.Section(\n",
    "    orientation=\"columns\",\n",
    "    children=tab,\n",
    "    cards=[{\"title\": \"Card 1\"}]\n",
    ")\n",
    "\n",
    "toggle = mdc.Toggle(\n",
    "    id=\"toggle\",\n",
    "    options=[1, 2],\n",
    "    selected=1,\n",
    ")\n",
    "sidebar = mdc.SideBar(\n",
    "    children=toggle,\n",
    "    title=\"Settings\",\n",
    "    settings=[\"Select choice\"],\n",
    ")\n",
    "\n",
    "page = mdc.Page(orientation=\"columns\", children=section)\n",
    "navbar = mdc.NavBar(title=\"Custom dash\")\n",
    "\n",
    "layout = mdc.Dashboard(children=[navbar, sidebar, page])"
   ]
  },
  {
   "cell_type": "code",
   "execution_count": null,
   "id": "earned-particle",
   "metadata": {},
   "outputs": [],
   "source": [
    "app = JupyterDash(__name__)\n",
    "app.layout = layout\n",
    "\n",
    "\n",
    "@app.callback(\n",
    "    Output(component_id='text-2', component_property='text'),\n",
    "    Input(component_id='toggle', component_property='selected'),\n",
    ")\n",
    "def update_tabs(value):\n",
    "    if value == 1:\n",
    "        return \"Other content...\"\n",
    "    return \"Another content...\"\n",
    "\n",
    "app.run_server(mode='jupyterlab', host=\"0.0.0.0\", port=8001, debug=False)"
   ]
  },
  {
   "cell_type": "code",
   "execution_count": null,
   "id": "hearing-football",
   "metadata": {},
   "outputs": [],
   "source": []
  }
 ],
 "metadata": {
  "kernelspec": {
   "display_name": "Python 3 (ipykernel)",
   "language": "python",
   "name": "python3"
  },
  "language_info": {
   "codemirror_mode": {
    "name": "ipython",
    "version": 3
   },
   "file_extension": ".py",
   "mimetype": "text/x-python",
   "name": "python",
   "nbconvert_exporter": "python",
   "pygments_lexer": "ipython3",
   "version": "3.8.6"
  }
 },
 "nbformat": 4,
 "nbformat_minor": 5
}
