{
 "cells": [
  {
   "cell_type": "code",
   "execution_count": 7,
   "id": "congressional-chile",
   "metadata": {},
   "outputs": [],
   "source": [
    "from jupyter_dash import JupyterDash\n",
    "from dash import Input, Output\n",
    "\n",
    "import dash_material_components as mdc"
   ]
  },
  {
   "cell_type": "code",
   "execution_count": 8,
   "id": "annual-interview",
   "metadata": {},
   "outputs": [],
   "source": [
    "text_1a = mdc.Typography(\n",
    "    id=\"text-1a\",\n",
    "    text=\"Content...\",\n",
    "    component=\"p\",\n",
    "    variant=\"body2\",\n",
    ")\n",
    "text_1b = mdc.Typography(\n",
    "    id=\"text-1b\",\n",
    "    text=\"Content...\",\n",
    "    component=\"p\",\n",
    "    variant=\"body2\",\n",
    ")\n",
    "text_1c = mdc.Typography(\n",
    "    id=\"text-1c\",\n",
    "    text=\"Content...\",\n",
    "    component=\"p\",\n",
    "    variant=\"body2\",\n",
    ")\n",
    "tab = mdc.Tab(\n",
    "    children=[text_1a, text_1b, text_1c],\n",
    "    tabs=[{\"label\": \"1a\"}, {\"label\": \"1b\"}, {\"label\": \"1c\"}]\n",
    ")\n",
    "section = mdc.Section(\n",
    "    orientation=\"columns\",\n",
    "    children=tab,\n",
    "    cards=[{\"title\": \"Card 1\"}]\n",
    ")\n",
    "\n",
    "toggle = mdc.Toggle(\n",
    "    id=\"toggle\",\n",
    "    options=[1, 2],\n",
    "    selected=2,\n",
    ")\n",
    "calendar = mdc.Calendar(\n",
    "    id=\"calendar\",\n",
    "    width=170,\n",
    "    labelText=\"test\",\n",
    "    helperText=\"test\",\n",
    "    minDate=\"2022-01-01\",\n",
    "    disableFuture=True,\n",
    "    selected=\"2022-05-01\",\n",
    ")\n",
    "dropdown = mdc.Dropdown(\n",
    "    id=\"dropdown\",\n",
    "    width=170,\n",
    "    labelText=\"test\",\n",
    "    helperText=\"test\",\n",
    "    options=[\"test 1\", \"test 2\"],\n",
    "    multiple=False,\n",
    "    selected=[\"test 1\"],\n",
    ")\n",
    "slider = mdc.Slider(\n",
    "    id=\"slider\",\n",
    "    width=300,\n",
    "    labelText=\"\",\n",
    "    minValue=-100,\n",
    "    maxValue=100,\n",
    "    stepValue=10,\n",
    "    selected=50,\n",
    "    marks=[\n",
    "        {\"label\": \"-100\", \"value\": -100},\n",
    "        {\"label\": \"-50\", \"value\": -50},\n",
    "        {\"label\": \"0\", \"value\": 0},\n",
    "        {\"label\": \"50\", \"value\": 50},\n",
    "        {\"label\": \"100\", \"value\": 100},\n",
    "    ],\n",
    "    showInputText=True,\n",
    ")\n",
    "sidebar = mdc.SideBar(\n",
    "    children=[toggle, calendar, dropdown, slider],\n",
    "    title=\"Settings\",\n",
    "    settings=[\"Select choice\", \"Select date\", \"Select option\",\"Slide to desired value\"],\n",
    ")\n",
    "\n",
    "page = mdc.Page(orientation=\"columns\", children=section)\n",
    "navbar = mdc.NavBar(title=\"Custom dash\")\n",
    "\n",
    "layout = mdc.Dashboard(children=[navbar, sidebar, page])"
   ]
  },
  {
   "cell_type": "code",
   "execution_count": 9,
   "id": "earned-particle",
   "metadata": {},
   "outputs": [
    {
     "name": "stdout",
     "output_type": "stream",
     "text": [
      "Dash is running on http://0.0.0.0:8001/\n",
      "\n"
     ]
    },
    {
     "name": "stderr",
     "output_type": "stream",
     "text": [
      "\u001b[31m\u001b[1mWARNING: This is a development server. Do not use it in a production deployment. Use a production WSGI server instead.\u001b[0m\n",
      " * Running on all addresses (0.0.0.0)\n",
      " * Running on http://127.0.0.1:8001\n",
      " * Running on http://192.168.3.225:8001\n",
      "\u001b[33mPress CTRL+C to quit\u001b[0m\n",
      "127.0.0.1 - - [09/Oct/2023 11:35:33] \"GET /_alive_a374ead4-108d-4cf3-98bb-33335fbbedb2 HTTP/1.1\" 200 -\n"
     ]
    },
    {
     "name": "stderr",
     "output_type": "stream",
     "text": [
      "127.0.0.1 - - [09/Oct/2023 11:35:35] \"GET / HTTP/1.1\" 200 -\n",
      "127.0.0.1 - - [09/Oct/2023 11:35:36] \"GET /_dash-layout HTTP/1.1\" 200 -\n",
      "127.0.0.1 - - [09/Oct/2023 11:35:36] \"GET /_dash-dependencies HTTP/1.1\" 200 -\n",
      "127.0.0.1 - - [09/Oct/2023 11:35:36] \"POST /_dash-update-component HTTP/1.1\" 200 -\n",
      "127.0.0.1 - - [09/Oct/2023 11:35:36] \"POST /_dash-update-component HTTP/1.1\" 200 -\n",
      "127.0.0.1 - - [09/Oct/2023 11:35:36] \"POST /_dash-update-component HTTP/1.1\" 200 -\n"
     ]
    }
   ],
   "source": [
    "app = JupyterDash(__name__)\n",
    "app.layout = layout\n",
    "\n",
    "\n",
    "@app.callback(\n",
    "    Output(component_id='text-1a', component_property='text'),\n",
    "    Input(component_id='toggle', component_property='selected'),\n",
    ")\n",
    "def on_toggle_change(selected):\n",
    "    return selected\n",
    "\n",
    "\n",
    "@app.callback(\n",
    "    Output(component_id='text-1b', component_property='text'),\n",
    "    Input(component_id='calendar', component_property='selected'),\n",
    ")\n",
    "def on_calendar_change(selected):\n",
    "    if selected:\n",
    "        return selected\n",
    "    return \"No content...\"\n",
    "\n",
    "\n",
    "@app.callback(\n",
    "    Output(component_id='text-1c', component_property='text'),\n",
    "    Input(component_id='dropdown', component_property='selected'),\n",
    ")\n",
    "def on_dropdown_change(selected):\n",
    "    if selected:\n",
    "        return \", \".join(selected)\n",
    "    return \"No content...\"\n",
    "\n",
    "app.run_server(mode='jupyterlab', host=\"0.0.0.0\", port=8001, debug=False)"
   ]
  },
  {
   "cell_type": "code",
   "execution_count": null,
   "id": "bf35cc21",
   "metadata": {},
   "outputs": [],
   "source": []
  }
 ],
 "metadata": {
  "kernelspec": {
   "display_name": "Python 3 (ipykernel)",
   "language": "python",
   "name": "python3"
  },
  "language_info": {
   "codemirror_mode": {
    "name": "ipython",
    "version": 3
   },
   "file_extension": ".py",
   "mimetype": "text/x-python",
   "name": "python",
   "nbconvert_exporter": "python",
   "pygments_lexer": "ipython3",
   "version": "3.11.5"
  }
 },
 "nbformat": 4,
 "nbformat_minor": 5
}
