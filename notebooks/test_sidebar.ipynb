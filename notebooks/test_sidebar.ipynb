{
 "cells": [
  {
   "cell_type": "code",
   "execution_count": 1,
   "id": "congressional-chile",
   "metadata": {},
   "outputs": [],
   "source": [
    "from dash import Input, Output, Dash\n",
    "\n",
    "import dash_material_components as dmc"
   ]
  },
  {
   "cell_type": "code",
   "execution_count": 2,
   "id": "annual-interview",
   "metadata": {},
   "outputs": [],
   "source": [
    "# Test sidebar\n",
    "\n",
    "text_1a = dmc.Typography(\n",
    "    id=\"text-1a\",\n",
    "    text=\"Content...\",\n",
    "    component=\"p\",\n",
    "    variant=\"body2\",\n",
    ")\n",
    "text_1b = dmc.Typography(\n",
    "    id=\"text-1b\",\n",
    "    text=\"Content...\",\n",
    "    component=\"p\",\n",
    "    variant=\"body2\",\n",
    ")\n",
    "text_1c = dmc.Typography(\n",
    "    id=\"text-1c\",\n",
    "    text=\"Content...\",\n",
    "    component=\"p\",\n",
    "    variant=\"body2\",\n",
    ")\n",
    "tab = dmc.Tab(\n",
    "    children=[text_1a, text_1b, text_1c],\n",
    "    tabs=[{\"label\": \"1a\"}, {\"label\": \"1b\"}, {\"label\": \"1c\"}]\n",
    ")\n",
    "section = dmc.Section(\n",
    "    orientation=\"columns\",\n",
    "    children=tab,\n",
    "    cards=[{\"title\": \"Card 1\"}]\n",
    ")\n",
    "\n",
    "toggle = dmc.Toggle(\n",
    "    id=\"toggle\",\n",
    "    options=[1, 2],\n",
    "    selected=2,\n",
    ")\n",
    "calendar = dmc.Calendar(\n",
    "    id=\"calendar\",\n",
    "    width=180,\n",
    "    labelText=\"test\",\n",
    "    helperText=\"test\",\n",
    "    minDate=\"2022-01-01\",\n",
    "    disableFuture=True,\n",
    "    selected=\"2022-05-01\",\n",
    ")\n",
    "dropdown = dmc.Dropdown(\n",
    "    id=\"dropdown\",\n",
    "    width=180,\n",
    "    labelText=\"test\",\n",
    "    helperText=\"test\",\n",
    "    options=[\"test 1\", \"test 2\"],\n",
    "    multiple=False,\n",
    "    selected=[\"test 1\"],\n",
    ")\n",
    "slider = dmc.Slider(\n",
    "    id=\"slider\",\n",
    "    width=300,\n",
    "    labelText=\"\",\n",
    "    minValue=-100,\n",
    "    maxValue=100,\n",
    "    stepValue=10,\n",
    "    selected=50,\n",
    "    marks=[\n",
    "        {\"label\": \"-100\", \"value\": -100},\n",
    "        {\"label\": \"\", \"value\": -50},\n",
    "        {\"label\": \"0\", \"value\": 0},\n",
    "        {\"label\": \"\", \"value\": 50},\n",
    "        {\"label\": \"100\", \"value\": 100},\n",
    "    ],\n",
    "    inputType=\"float\",\n",
    "    inputRightAdornment=\"MWh\"\n",
    ")"
   ]
  },
  {
   "cell_type": "code",
   "execution_count": 3,
   "metadata": {},
   "outputs": [],
   "source": [
    "# Dashboard layout\n",
    "\n",
    "sidebar = dmc.SideBar(\n",
    "    children=[toggle, calendar, dropdown, slider],\n",
    "    title=\"Settings\",\n",
    "    settings=[\"Select choice\", \"Select date\", \"Select option\",\"Slide to desired value\"],\n",
    ")\n",
    "page = dmc.Page(orientation=\"columns\", children=section)\n",
    "navbar = dmc.NavBar(title=\"Custom dash\")\n",
    "\n",
    "layout = dmc.Dashboard(children=[navbar, sidebar, page])"
   ]
  },
  {
   "cell_type": "code",
   "execution_count": 4,
   "id": "earned-particle",
   "metadata": {},
   "outputs": [
    {
     "data": {
      "text/html": [
       "\n",
       "        <iframe\n",
       "            width=\"100%\"\n",
       "            height=\"650\"\n",
       "            src=\"http://0.0.0.0:8001/\"\n",
       "            frameborder=\"0\"\n",
       "            allowfullscreen\n",
       "            \n",
       "        ></iframe>\n",
       "        "
      ],
      "text/plain": [
       "<IPython.lib.display.IFrame at 0x2d67944d0>"
      ]
     },
     "metadata": {},
     "output_type": "display_data"
    }
   ],
   "source": [
    "# Dash app\n",
    "\n",
    "app = Dash(__name__)\n",
    "app.layout = layout\n",
    "\n",
    "\n",
    "@app.callback(\n",
    "    Output(component_id='text-1a', component_property='text'),\n",
    "    Input(component_id='toggle', component_property='selected'),\n",
    ")\n",
    "def on_toggle_change(selected):\n",
    "    return selected\n",
    "\n",
    "\n",
    "@app.callback(\n",
    "    Output(component_id='text-1b', component_property='text'),\n",
    "    Input(component_id='calendar', component_property='selected'),\n",
    ")\n",
    "def on_calendar_change(selected):\n",
    "    if selected:\n",
    "        return selected\n",
    "    return \"No content...\"\n",
    "\n",
    "\n",
    "@app.callback(\n",
    "    Output(component_id='text-1c', component_property='text'),\n",
    "    Input(component_id='dropdown', component_property='selected'),\n",
    ")\n",
    "def on_dropdown_change(selected):\n",
    "    if selected:\n",
    "        return \", \".join(selected)\n",
    "    return \"No content...\"\n",
    "\n",
    "app.run_server(mode=\"inline\", host=\"0.0.0.0\", port=8001, debug=False)"
   ]
  },
  {
   "cell_type": "code",
   "execution_count": null,
   "id": "bf35cc21",
   "metadata": {},
   "outputs": [],
   "source": []
  }
 ],
 "metadata": {
  "kernelspec": {
   "display_name": "Python 3 (ipykernel)",
   "language": "python",
   "name": "python3"
  },
  "language_info": {
   "codemirror_mode": {
    "name": "ipython",
    "version": 3
   },
   "file_extension": ".py",
   "mimetype": "text/x-python",
   "name": "python",
   "nbconvert_exporter": "python",
   "pygments_lexer": "ipython3",
   "version": "3.11.4"
  }
 },
 "nbformat": 4,
 "nbformat_minor": 5
}
