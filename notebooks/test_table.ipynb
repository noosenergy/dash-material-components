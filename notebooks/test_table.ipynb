{
 "cells": [
  {
   "cell_type": "code",
   "execution_count": null,
   "metadata": {},
   "outputs": [],
   "source": [
    "from jupyter_dash import JupyterDash\n",
    "from dash import Input, Output\n",
    "\n",
    "import dash_material_components as dmc"
   ]
  },
  {
   "cell_type": "code",
   "execution_count": null,
   "metadata": {},
   "outputs": [],
   "source": [
    "# Create sample data\n",
    "\n",
    "DATA = [\n",
    "    {'name': 'Alice', 'age': 25, 'gender': 'Female', 'salary': 50000},\n",
    "    {'name': 'Bob', 'age': 30, 'gender': 'Male', 'salary': 60000},\n",
    "    {'name': 'Charlie', 'age': 35, 'gender': 'Male', 'salary': 70000},\n",
    "    {'name': 'David', 'age': 40, 'gender': 'Male', 'salary': 80000},\n",
    "    {'name': 'Eve', 'age': 45, 'gender': 'Female', 'salary': 90000},\n",
    "    {'name': 'Frank', 'age': 50, 'gender': 'Male', 'salary': 100000},\n",
    "    {'name': 'Grace', 'age': 55, 'gender': 'Female', 'salary': 110000},\n",
    "    {'name': 'Henry', 'age': 60, 'gender': 'Male', 'salary': 120000},\n",
    "    {'name': 'Isabella', 'age': 65, 'gender': 'Female', 'salary': 130000},\n",
    "    {'name': 'Jack', 'age': 70, 'gender': 'Male', 'salary': 140000},\n",
    "    {'name': 'Katie', 'age': 75, 'gender': 'Female', 'salary': 150000},\n",
    "    {'name': 'Liam', 'age': 80, 'gender': 'Male', 'salary': 160000},\n",
    "    {'name': 'Mia', 'age': 85, 'gender': 'Female', 'salary': 170000},\n",
    "    {'name': 'Nathan', 'age': 90, 'gender': 'Male', 'salary': 180000},\n",
    "    {'name': 'Olivia', 'age': 95, 'gender': 'Female', 'salary': 190000},\n",
    "    {'name': 'Peter', 'age': 100, 'gender': 'Male', 'salary': 200000},\n",
    "    {'name': 'Quinn', 'age': 105, 'gender': 'Female', 'salary': 210000},\n",
    "    {'name': 'Robert', 'age': 110, 'gender': 'Male', 'salary': 220000},\n",
    "    {'name': 'Samantha', 'age': 115, 'gender': 'Female', 'salary': 230000},\n",
    "    {'name': 'Thomas', 'age': 120, 'gender': 'Male', 'salary': 240000},\n",
    "]\n",
    "\n",
    "COLUMNS = [\n",
    "    {'field': 'Name', 'width': 70},\n",
    "    {'field': 'Age', 'width': 50},\n",
    "    {'field': 'Gender', 'width': 70},\n",
    "    {'field': 'Salary'},\n",
    "]"
   ]
  },
  {
   "cell_type": "code",
   "execution_count": null,
   "metadata": {},
   "outputs": [],
   "source": [
    "# Test table\n",
    "\n",
    "table = dmc.Table(\n",
    "    id=\"table\",\n",
    "    rows=DATA,\n",
    "    columns=COLUMNS,\n",
    "    rowsPerPageOptions=[5, 10, 20],\n",
    ")\n",
    "text_1b = dmc.Typography(\n",
    "    id=\"text-1b\",\n",
    "    text=\"Content...\",\n",
    "    component=\"p\",\n",
    "    variant=\"body2\",\n",
    ")\n",
    "text_1c = dmc.Typography(\n",
    "    id=\"text-1c\",\n",
    "    text=\"Content...\",\n",
    "    component=\"p\",\n",
    "    variant=\"body2\",\n",
    ")\n",
    "\n",
    "dropdown = dmc.Dropdown(\n",
    "    id=\"dropdown\",\n",
    "    width=150,\n",
    "    labelText=\"Gender\",\n",
    "    # helperText=\"test\",\n",
    "    options=[\"Male\", \"Female\"],\n",
    "    multiple=True,\n",
    "    selected=[\"Male\", \"Female\"],\n",
    ")\n",
    "\n",
    "box = dmc.Box(\n",
    "    children=[table, dropdown],\n",
    ")"
   ]
  },
  {
   "cell_type": "code",
   "execution_count": null,
   "metadata": {},
   "outputs": [],
   "source": [
    "# Dasboard layout\n",
    "\n",
    "tab = dmc.Tab(\n",
    "    children=[box, text_1b, text_1c],\n",
    "    tabs=[{\"label\": \"Table tab\"}, {\"label\": \"1b\"}, {\"label\": \"1c\"}]\n",
    ")\n",
    "section = dmc.Section(\n",
    "    orientation=\"columns\",\n",
    "    children=tab,\n",
    "    cards=[{\"title\": \"Card 1\"}]\n",
    ")\n",
    "\n",
    "page = dmc.Page(orientation=\"columns\", children=section)\n",
    "navbar = dmc.NavBar(title=\"Custom dash\")\n",
    "\n",
    "layout = dmc.Dashboard(children=[navbar, page])"
   ]
  },
  {
   "cell_type": "code",
   "execution_count": null,
   "metadata": {},
   "outputs": [],
   "source": [
    "# Dash app\n",
    "\n",
    "app = JupyterDash(__name__)\n",
    "app.layout = layout\n",
    "\n",
    "@app.callback(\n",
    "    Output(\"table\", \"rows\"),\n",
    "    Input(\"dropdown\", \"selected\"),\n",
    ")\n",
    "def dropdown_callback(selected):\n",
    "    print(f\"selected: {selected}\")\n",
    "    return [row for row in DATA if row[\"gender\"] in selected]\n",
    "\n",
    "app.run_server(mode=\"jupyterlab\", host=\"0.0.0.0\", port=8001, debug=True)"
   ]
  },
  {
   "cell_type": "code",
   "execution_count": null,
   "metadata": {},
   "outputs": [],
   "source": []
  }
 ],
 "metadata": {
  "kernelspec": {
   "display_name": "dash-mdc-neptune-VTlNJMgB-py3.11",
   "language": "python",
   "name": "python3"
  },
  "language_info": {
   "codemirror_mode": {
    "name": "ipython",
    "version": 3
   },
   "file_extension": ".py",
   "mimetype": "text/x-python",
   "name": "python",
   "nbconvert_exporter": "python",
   "pygments_lexer": "ipython3",
   "version": "3.11.4"
  },
  "orig_nbformat": 4
 },
 "nbformat": 4,
 "nbformat_minor": 2
}
