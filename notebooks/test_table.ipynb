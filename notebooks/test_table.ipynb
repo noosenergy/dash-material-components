{
 "cells": [
  {
   "cell_type": "code",
   "execution_count": 1,
   "id": "great-steam",
   "metadata": {},
   "outputs": [],
   "source": [
    "from jupyter_dash import JupyterDash\n",
    "\n",
    "import dash_mdc_neptune as mdc"
   ]
  },
  {
   "cell_type": "code",
   "execution_count": 2,
   "id": "01f5b691-4a71-48e1-9220-a5245c6feae8",
   "metadata": {},
   "outputs": [],
   "source": [
    "COLUMN_NAMES = [\"column_1\", \"column_2\"]\n",
    "ROWS = [{COLUMN_NAMES[0]: i, COLUMN_NAMES[1]: i*i} for i in range(50)]"
   ]
  },
  {
   "cell_type": "code",
   "execution_count": 3,
   "id": "hindu-script",
   "metadata": {},
   "outputs": [],
   "source": [
    "table_no_pagination = mdc.Table(\n",
    "        id=\"table_no_pagination\",\n",
    "        columns=[{\"field\": c.title(), \"width\": 150} for c in COLUMN_NAMES],\n",
    "        rows=ROWS,\n",
    "    )\n",
    "\n",
    "table_with_pagination = mdc.Table(\n",
    "        id=\"table_with_pagination\",\n",
    "        columns=[{\"field\": c.title(), \"width\": 150} for c in COLUMN_NAMES],\n",
    "        rows=ROWS,\n",
    "        rowsPerPageOptions: [10, 25, 50],\n",
    "    )\n",
    "\n",
    "section_1 = mdc.Section(\n",
    "    id=\"section-1\",\n",
    "    orientation=\"rows\",\n",
    "    children=[table_no_pagination],\n",
    "    cards=[{\"title\": \"Card 1\"}]\n",
    ")\n",
    "\n",
    "section_2 = mdc.Section(\n",
    "    id=\"section-2\",\n",
    "    children=[table_with_pagination],\n",
    "    cards=[{\"title\": \"Card 2\"}]\n",
    ")\n",
    "\n",
    "page = mdc.Page(orientation=\"columns\", children=[section_1, section_2])\n",
    "navbar = mdc.NavBar(title=\"Custom dash\")\n",
    "\n",
    "layout = mdc.Dashboard(children=[navbar, page])"
   ]
  },
  {
   "cell_type": "code",
   "execution_count": 4,
   "id": "typical-population",
   "metadata": {},
   "outputs": [
    {
     "name": "stderr",
     "output_type": "stream",
     "text": [
      " * Running on all addresses.\n",
      "   WARNING: This is a development server. Do not use it in a production deployment.\n",
      " * Running on http://192.168.1.7:8001/ (Press CTRL+C to quit)\n",
      "127.0.0.1 - - [07/Jul/2022 17:47:46] \"GET /_alive_c676ec36-4d2f-4b97-bd31-56e11626b9f4 HTTP/1.1\" 200 -\n",
      "127.0.0.1 - - [07/Jul/2022 17:47:46] \"GET / HTTP/1.1\" 200 -\n",
      "127.0.0.1 - - [07/Jul/2022 17:47:46] \"GET /_dash-component-suites/dash_mdc_neptune/dash_mdc_neptune.v0_1_3m1657208864.js HTTP/1.1\" 200 -\n",
      "127.0.0.1 - - [07/Jul/2022 17:47:46] \"GET /_dash-dependencies HTTP/1.1\" 200 -\n",
      "127.0.0.1 - - [07/Jul/2022 17:47:46] \"GET /_dash-layout HTTP/1.1\" 200 -\n"
     ]
    }
   ],
   "source": [
    "app = JupyterDash(__name__)\n",
    "app.layout = layout\n",
    "\n",
    "app.run_server(mode='jupyterlab', host=\"0.0.0.0\", port=8001, debug=False)"
   ]
  },
  {
   "cell_type": "code",
   "execution_count": null,
   "id": "thorough-practitioner",
   "metadata": {},
   "outputs": [],
   "source": []
  }
 ],
 "metadata": {
  "kernelspec": {
   "display_name": "Python 3 (ipykernel)",
   "language": "python",
   "name": "python3"
  },
  "language_info": {
   "codemirror_mode": {
    "name": "ipython",
    "version": 3
   },
   "file_extension": ".py",
   "mimetype": "text/x-python",
   "name": "python",
   "nbconvert_exporter": "python",
   "pygments_lexer": "ipython3",
   "version": "3.8.6"
  }
 },
 "nbformat": 4,
 "nbformat_minor": 5
}
