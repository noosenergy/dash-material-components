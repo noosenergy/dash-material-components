{
 "cells": [
  {
   "cell_type": "code",
   "execution_count": 8,
   "id": "foreign-canon",
   "metadata": {},
   "outputs": [
    {
     "name": "stdout",
     "output_type": "stream",
     "text": [
      "Requirement already satisfied: dash-dangerously-set-inner-html in /opt/conda/lib/python3.8/site-packages (0.0.2)\n"
     ]
    }
   ],
   "source": [
    "! pip install dash-dangerously-set-inner-html"
   ]
  },
  {
   "cell_type": "code",
   "execution_count": 9,
   "id": "continuing-campus",
   "metadata": {},
   "outputs": [],
   "source": [
    "# Global import\n",
    "\n",
    "import datetime as dt\n",
    "\n",
    "import pandas as pd\n",
    "import plotly.graph_objects as go\n",
    "\n",
    "from dash_mdc_neptune import themes"
   ]
  },
  {
   "cell_type": "code",
   "execution_count": 2,
   "id": "changing-dallas",
   "metadata": {},
   "outputs": [],
   "source": [
    "# Global variables\n",
    "\n",
    "TODAY = pd.to_datetime(dt.date.today(), utc=True)\n",
    "\n",
    "CURVE_UID = \"PWRTE\"\n",
    "PUBLISHED_AT = TODAY - pd.tseries.offsets.BDay(10)"
   ]
  },
  {
   "cell_type": "markdown",
   "id": "protected-sharing",
   "metadata": {},
   "source": [
    "# PAGE 1"
   ]
  },
  {
   "cell_type": "code",
   "execution_count": 4,
   "id": "spare-swedish",
   "metadata": {},
   "outputs": [],
   "source": [
    "# Extract MA fixings\n",
    "\n",
    "st_regex = r\"^(D-)|(Week-)\"\n",
    "\n",
    "query_params = {\n",
    "    \"asset\": CURVE_UID,\n",
    "    \"published_at\": PUBLISHED_AT,\n",
    "}\n",
    "\n",
    "df_ma = nptc.retrieve_forward_fixings(**query_params)\n",
    "\n",
    "df_ma = df_ma[df_ma[\"calendar_delivery\"].str.match(st_regex) == True].copy()\n",
    "df_ma[\"publication_date\"] = df_ma[\"published_at\"].dt.date"
   ]
  },
  {
   "cell_type": "code",
   "execution_count": 5,
   "id": "graduate-relevance",
   "metadata": {},
   "outputs": [],
   "source": [
    "# Retrieve curve\n",
    "\n",
    "query_params = {\n",
    "    \"curve_uid\": CURVE_UID,\n",
    "    \"published_at\": PUBLISHED_AT,\n",
    "}\n",
    "\n",
    "curve = nptc.retrieve_model(**query_params)\n",
    "\n",
    "npta.curve_update_with_fixings(curve=curve, fixings=df_ma, created_at=PUBLISHED_AT)"
   ]
  },
  {
   "cell_type": "code",
   "execution_count": 6,
   "id": "important-barbados",
   "metadata": {},
   "outputs": [],
   "source": [
    "# Retrieve ALL fixings\n",
    "\n",
    "ts_list = []\n",
    "\n",
    "for row in df_ma.itertuples():\n",
    "    symbol = npta.symbol_from_dict({\n",
    "        \"contract\": \"FWD\",\n",
    "        \"asset\": row.asset,\n",
    "        \"intraday_delivery\": row.intraday_delivery,\n",
    "        \"calendar_delivery\": row.calendar_delivery,\n",
    "    })\n",
    "    query_params = {\n",
    "            \"curve_uid\": symbol,\n",
    "            \"curve_type\": \"FIXING\",\n",
    "            \"published_at\": PUBLISHED_AT,\n",
    "        }\n",
    "    try:\n",
    "        ts_tmp = nptc.retrieve_time_series(**query_params)\n",
    "        ts_list.append(ts_tmp.rename(symbol))\n",
    "    except Exception:\n",
    "        pass\n",
    "\n",
    "df_past = pd.concat(ts_list, join=\"outer\", axis=1)"
   ]
  },
  {
   "cell_type": "code",
   "execution_count": 10,
   "id": "significant-sessions",
   "metadata": {},
   "outputs": [],
   "source": [
    "# Fixing colours\n",
    "\n",
    "noos_palette = themes.NOOS_PALETTE_SEQUENTIAL\n",
    "fixing_colour = {}\n",
    "\n",
    "colour_counter = 0\n",
    "for delivery in df_ma[\"calendar_delivery\"].unique():\n",
    "    fixing_colour[delivery] = noos_palette[colour_counter]\n",
    "    colour_counter = (colour_counter + 1) %len(noos_palette)"
   ]
  },
  {
   "cell_type": "markdown",
   "id": "separate-bandwidth",
   "metadata": {},
   "source": [
    "## SECTION 1"
   ]
  },
  {
   "cell_type": "markdown",
   "id": "impossible-introduction",
   "metadata": {},
   "source": [
    "### CARD 1"
   ]
  },
  {
   "cell_type": "code",
   "execution_count": 11,
   "id": "young-commander",
   "metadata": {},
   "outputs": [],
   "source": [
    "# Format fixings\n",
    "\n",
    "df_latest = df_ma[[\"intraday_delivery\", \"calendar_delivery\", \"price\", \"publication_date\"]]\n",
    "df_latest = df_latest.sort_values([\"calendar_delivery\", \"intraday_delivery\"])\n",
    "df_latest = df_latest.rename(\n",
    "    columns={\n",
    "        \"intraday_delivery\": \"intraday delivery\",\n",
    "        \"calendar_delivery\": \"calendar delivery\",\n",
    "        \"price\": \"EUR/MWH\",\n",
    "        \"publication_date\": \"publication date\",\n",
    "    }\n",
    ")"
   ]
  },
  {
   "cell_type": "code",
   "execution_count": 12,
   "id": "funny-newton",
   "metadata": {},
   "outputs": [],
   "source": [
    "# Format table\n",
    "\n",
    "def colour_selector(row, colour_mapping=fixing_colour):\n",
    "    colour_hex = colour_mapping[row[\"calendar delivery\"]]\n",
    "    return {col: f\"background-color: {colour_hex}\" for col in row.index}\n",
    "\n",
    "latest_styler = df_latest.style\n",
    "latest_styler = latest_styler.hide_index()\n",
    "latest_styler = latest_styler.format({\"EUR/MWH\": \"{:,.2f}\"})\n",
    "latest_styler = latest_styler.set_table_attributes('style=\"font-size: 0.8rem\"')\n",
    "latest_styler = latest_styler.apply(lambda x: colour_selector(x), axis=1)"
   ]
  },
  {
   "cell_type": "code",
   "execution_count": null,
   "id": "prescription-vacuum",
   "metadata": {},
   "outputs": [],
   "source": [
    "# Display table\n",
    "\n",
    "# latest_styler"
   ]
  },
  {
   "cell_type": "code",
   "execution_count": null,
   "id": "toxic-behavior",
   "metadata": {},
   "outputs": [],
   "source": [
    "# Display source\n",
    "\n",
    "# print(\n",
    "#     f\"Source: https://api.noos.energy/v1\"\n",
    "#     f\"/products/{CURVE_UID}\"\n",
    "#     f\"?published_at={PUBLISHED_AT.tz_localize(None).isoformat()}\"\n",
    "# )"
   ]
  },
  {
   "cell_type": "markdown",
   "id": "substantial-prayer",
   "metadata": {},
   "source": [
    "## SECTION 2"
   ]
  },
  {
   "cell_type": "code",
   "execution_count": 13,
   "id": "disciplinary-tuner",
   "metadata": {},
   "outputs": [],
   "source": [
    "# Shared scatter configs\n",
    "\n",
    "GO_LAYOUT = go.Layout(\n",
    "    yaxis=go.layout.YAxis(\n",
    "        title=go.layout.yaxis.Title(\n",
    "            text='€/MWh',\n",
    "        )\n",
    "    ),\n",
    "    template=\"noos_watermark+noos_base+noos_colorscale+min_modebar+hoover_xunified\",\n",
    ")"
   ]
  },
  {
   "cell_type": "markdown",
   "id": "wireless-brighton",
   "metadata": {},
   "source": [
    "### CARD 1"
   ]
  },
  {
   "cell_type": "code",
   "execution_count": 14,
   "id": "weekly-crime",
   "metadata": {},
   "outputs": [],
   "source": [
    "# Extract volumes, prices\n",
    "\n",
    "df_fixings = curve.fixings.to_pandas()\n",
    "\n",
    "df_volumes = npta.domain.products.collections.IndexSet.from_pandas(df_fixings).volumes()\n",
    "ts_prices = pd.to_numeric(df_fixings[\"price\"])"
   ]
  },
  {
   "cell_type": "code",
   "execution_count": 15,
   "id": "pressing-theater",
   "metadata": {},
   "outputs": [],
   "source": [
    "# Format curves\n",
    "\n",
    "df_wide = pd.DataFrame(\n",
    "    data=2 * df_volumes.values * ts_prices.values,\n",
    "    index=df_volumes.index,\n",
    "    columns=df_volumes.columns\n",
    ")\n",
    "df_wide[\"PFC\"] = curve.to_pandas()\n",
    "df_wide = df_wide.tz_convert(\"Europe/Paris\")\n",
    "\n",
    "# Transform table from wide-to-long\n",
    "\n",
    "df_long = df_wide.unstack().reset_index()\n",
    "df_long = df_long.rename(columns={\"level_0\": \"product\", \"level_1\": \"delivery_from\", 0: \"price\"})\n",
    "df_long[\"curve_type\"] = df_long[\"product\"].apply(lambda x: \"forwards\" if x == \"PFC\" else \"products\")\n",
    "\n",
    "# Remove 0 points\n",
    "\n",
    "df_long = df_long[~(df_long[\"price\"] == 0)]"
   ]
  },
  {
   "cell_type": "code",
   "execution_count": 16,
   "id": "understood-dress",
   "metadata": {},
   "outputs": [],
   "source": [
    "# Format graph \n",
    "\n",
    "data = []\n",
    "for product, df_product in df_long.groupby(\"product\"):\n",
    "    if product == \"PFC\":\n",
    "        data.append(\n",
    "            go.Scatter(\n",
    "                x=df_product[\"delivery_from\"],\n",
    "                y=df_product[\"price\"],\n",
    "                line_color=themes.NOOS_HTML_COLORS[\"primary\"],\n",
    "                name= \"half-hourly forwards\",\n",
    "            )\n",
    "        )\n",
    "\n",
    "    else:\n",
    "        symbol = npta.symbol_to_dict(product)\n",
    "        if symbol['intraday_delivery'] == 'BASE':\n",
    "            line_dash='solid'\n",
    "        else:\n",
    "            line_dash='dot'\n",
    "        data.append(    \n",
    "            go.Scatter(\n",
    "                x=df_product[\"delivery_from\"],\n",
    "                y=df_product[\"price\"],\n",
    "                line_dash=line_dash,\n",
    "                line_color=fixing_colour[symbol['calendar_delivery']],\n",
    "                name=f\"{symbol['intraday_delivery']} {symbol['calendar_delivery']}\",\n",
    "                legendgroup=f\"{symbol['intraday_delivery'].lower()} products\",\n",
    "                legendgrouptitle_text=f\"{symbol['intraday_delivery'].lower()} products\",\n",
    "            )\n",
    "        )\n",
    "\n",
    "fig_1 = go.FigureWidget(data=data, layout=GO_LAYOUT)\n",
    "fig_1 = fig_1.update_layout(\n",
    "    xaxis=go.layout.XAxis(\n",
    "        title=go.layout.xaxis.Title(\n",
    "            text='local delivery',\n",
    "        )\n",
    "    ),\n",
    ")"
   ]
  },
  {
   "cell_type": "code",
   "execution_count": 17,
   "id": "alone-flooring",
   "metadata": {},
   "outputs": [],
   "source": [
    "# Display graph\n",
    "\n",
    "# fig_1"
   ]
  },
  {
   "cell_type": "markdown",
   "id": "voluntary-editor",
   "metadata": {},
   "source": [
    "### CARD 2"
   ]
  },
  {
   "cell_type": "code",
   "execution_count": 18,
   "id": "novel-smell",
   "metadata": {},
   "outputs": [],
   "source": [
    "# Format products\n",
    "\n",
    "df_long = df_past.unstack().reset_index()\n",
    "df_long = df_long.rename(columns={\"level_0\": \"product\", \"level_1\": \"publication_date\", 0: \"price\"})\n",
    "\n",
    "# Remove #NA points\n",
    "\n",
    "# df_long = df_long.fillna(value=0)\n",
    "df_long = df_long[~(df_long[\"price\"] == 0)]"
   ]
  },
  {
   "cell_type": "code",
   "execution_count": 19,
   "id": "liquid-formation",
   "metadata": {},
   "outputs": [],
   "source": [
    "# Format graph\n",
    "\n",
    "data = []\n",
    "for product, df_product in df_long.groupby(\"product\"):\n",
    "    symbol = npta.symbol_to_dict(product)\n",
    "    if symbol['intraday_delivery'] == 'BASE':\n",
    "        line_dash='solid'\n",
    "    else:\n",
    "        line_dash='dot'\n",
    "    data.append(    \n",
    "        go.Scatter(\n",
    "            x=df_product[\"publication_date\"],\n",
    "            y=df_product[\"price\"],\n",
    "            line_dash=line_dash,\n",
    "            line_color=fixing_colour[symbol['calendar_delivery']],\n",
    "            name=f\"{symbol['intraday_delivery']} {symbol['calendar_delivery']}\",\n",
    "            legendgroup=f\"{symbol['calendar_delivery'].lower()} products\",\n",
    "        )\n",
    "    )\n",
    "\n",
    "fig_2 = go.FigureWidget(data=data, layout=GO_LAYOUT)\n",
    "fig_2 = fig_2.update_layout(\n",
    "    xaxis=go.layout.XAxis(\n",
    "        title=go.layout.xaxis.Title(\n",
    "            text='publication date',\n",
    "        )\n",
    "    ),\n",
    ")"
   ]
  },
  {
   "cell_type": "code",
   "execution_count": 20,
   "id": "duplicate-relay",
   "metadata": {},
   "outputs": [],
   "source": [
    "# Display graph\n",
    "\n",
    "# fig_2"
   ]
  },
  {
   "cell_type": "markdown",
   "id": "rural-howard",
   "metadata": {},
   "source": [
    "# DASH COMPONENTS"
   ]
  },
  {
   "cell_type": "code",
   "execution_count": 21,
   "id": "developed-aberdeen",
   "metadata": {},
   "outputs": [],
   "source": [
    "import jupyter_dash\n",
    "\n",
    "import dash_dangerously_set_inner_html as html\n",
    "from dash import dcc\n",
    "\n",
    "import dash_mdc_neptune as mdc"
   ]
  },
  {
   "cell_type": "code",
   "execution_count": 22,
   "id": "twelve-adult",
   "metadata": {},
   "outputs": [],
   "source": [
    "table = html.DangerouslySetInnerHTML(latest_styler.to_html())\n",
    "table_section = mdc.Section(\n",
    "    id=\"section-table\",\n",
    "    size=3,\n",
    "    children=table,\n",
    "    options=[{\"title\": \"Latest Prices\"}],\n",
    ")\n",
    "\n",
    "extras = {\n",
    "    \"style\": {\"height\": \"100%\", \"width\": \"100%\"},\n",
    "}\n",
    "pfc_graph = dcc.Graph(\n",
    "    id=\"pfc-graph\",\n",
    "    figure=fig_1,\n",
    "    **extras\n",
    ")\n",
    "ytd_graph = dcc.Graph(\n",
    "    id=\"ytd-graph\",\n",
    "    figure=fig_2,\n",
    "    **extras\n",
    ")\n",
    "graph_tab = mdc.Tab(\n",
    "    id=\"tab-graph\",\n",
    "    children=[pfc_graph, ytd_graph],\n",
    "    options=[\n",
    "        {\"label\": \"Forward Prices\"},\n",
    "        {\"label\": \"Historical Prices\"},\n",
    "    ],\n",
    ")\n",
    "graph_section = mdc.Section(\n",
    "    id=\"section-graph\",\n",
    "    children=graph_tab,\n",
    "    options=[{\"title\": \"Market Watch\"}],\n",
    ")\n",
    "\n",
    "page = mdc.Page(children=[table_section, graph_section])\n",
    "navbar = mdc.NavBar(title=\"Short-Term Markets\")\n",
    "\n",
    "layout = mdc.Dashboard(children=[navbar, page])"
   ]
  },
  {
   "cell_type": "code",
   "execution_count": 23,
   "id": "collaborative-switzerland",
   "metadata": {},
   "outputs": [
    {
     "name": "stdout",
     "output_type": "stream",
     "text": [
      "Dash app running on http://0.0.0.0:8001/\n"
     ]
    }
   ],
   "source": [
    "from jupyter_dash import JupyterDash\n",
    "\n",
    "\n",
    "app = JupyterDash(__name__)\n",
    "app.layout = layout\n",
    "\n",
    "app.run_server(mode='external', host=\"0.0.0.0\", port=8001)"
   ]
  },
  {
   "cell_type": "code",
   "execution_count": null,
   "id": "european-might",
   "metadata": {},
   "outputs": [],
   "source": []
  }
 ],
 "metadata": {
  "kernelspec": {
   "display_name": "Python 3",
   "language": "python",
   "name": "python3"
  },
  "language_info": {
   "codemirror_mode": {
    "name": "ipython",
    "version": 3
   },
   "file_extension": ".py",
   "mimetype": "text/x-python",
   "name": "python",
   "nbconvert_exporter": "python",
   "pygments_lexer": "ipython3",
   "version": "3.8.6"
  },
  "voila": {
   "template": "neptune_flex"
  }
 },
 "nbformat": 4,
 "nbformat_minor": 5
}
