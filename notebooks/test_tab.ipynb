{
 "cells": [
  {
   "cell_type": "code",
   "execution_count": 1,
   "id": "great-steam",
   "metadata": {},
   "outputs": [],
   "source": [
    "from jupyter_dash import JupyterDash\n",
    "\n",
    "from dash import html, Input, Output\n",
    "import dash_material_components as mdc"
   ]
  },
  {
   "cell_type": "code",
   "execution_count": 2,
   "id": "hindu-script",
   "metadata": {},
   "outputs": [],
   "source": [
    "text = mdc.Typography(text=\"Content...\", component=\"p\", variant=\"body2\")\n",
    "text_2 = mdc.Typography(text=\"Other content...\", component=\"p\", variant=\"body2\")\n",
    "\n",
    "tab = mdc.Tab(\n",
    "    children=[text, text_2],\n",
    "    tabs=[{\"label\": \"2a\"}, {\"label\": \"2b\"}]\n",
    ")\n",
    "\n",
    "button = html.Button(\"Show error page\", id=\"button\", n_clicks=0)\n",
    "section_1 = mdc.Section(\n",
    "    id=\"section-1\",\n",
    "    orientation=\"rows\",\n",
    "    children=[text, text_2, button],\n",
    "    cards=[{\"title\": \"Card 1a\", \"size\": 3}, {\"title\": \"Card 1b\"}, {\"title\": \"Card 1c\"}]\n",
    ")\n",
    "\n",
    "section_2 = mdc.Section(\n",
    "    id=\"section-2\",\n",
    "    children=tab,\n",
    "    cards=[{\"title\": \"Card 2\"}]\n",
    ")\n",
    "page = mdc.Page(id=\"page\", orientation=\"columns\", children=[section_1, section_2])\n",
    "navbar = mdc.NavBar(title=\"Custom dash\")\n",
    "\n",
    "layout = mdc.Dashboard(children=[navbar, page])"
   ]
  },
  {
   "cell_type": "code",
   "execution_count": 3,
   "id": "typical-population",
   "metadata": {},
   "outputs": [],
   "source": [
    "app = JupyterDash(__name__)\n",
    "app.layout = layout\n",
    "\n",
    "@app.callback(\n",
    "    Output(component_id=\"page\", component_property=\"errorStatus\"),\n",
    "    Output(component_id=\"page\", component_property=\"errorMessage\"),\n",
    "    Input(component_id=\"button\", component_property=\"n_clicks\"),\n",
    "    prevent_initial_call=True,\n",
    ")\n",
    "def show_error_page(n_clicks):\n",
    "    return [404, \"Error message\"]\n",
    "\n",
    "app.run_server(mode='jupyterlab', host=\"0.0.0.0\", port=8001, debug=False)"
   ]
  },
  {
   "cell_type": "code",
   "execution_count": null,
   "id": "00524167",
   "metadata": {},
   "outputs": [],
   "source": []
  },
  {
   "cell_type": "code",
   "execution_count": null,
   "id": "901bf8c5",
   "metadata": {},
   "outputs": [],
   "source": []
  }
 ],
 "metadata": {
  "kernelspec": {
   "display_name": "Python 3 (ipykernel)",
   "language": "python",
   "name": "python3"
  },
  "language_info": {
   "codemirror_mode": {
    "name": "ipython",
    "version": 3
   },
   "file_extension": ".py",
   "mimetype": "text/x-python",
   "name": "python",
   "nbconvert_exporter": "python",
   "pygments_lexer": "ipython3",
   "version": "3.11.4"
  }
 },
 "nbformat": 4,
 "nbformat_minor": 5
}
