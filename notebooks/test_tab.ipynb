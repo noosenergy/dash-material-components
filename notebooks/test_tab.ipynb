{
 "cells": [
  {
   "cell_type": "code",
   "execution_count": 1,
   "id": "radio-destination",
   "metadata": {},
   "outputs": [],
   "source": [
    "import jupyter_dash\n",
    "\n",
    "import dash_mdc_neptune as mdc"
   ]
  },
  {
   "cell_type": "code",
   "execution_count": 2,
   "id": "advised-notification",
   "metadata": {},
   "outputs": [],
   "source": [
    "text = mdc.Typography(text=\"Content...\", component=\"p\", variant=\"body2\")\n",
    "text_2 = mdc.Typography(text=\"Other content...\", component=\"p\", variant=\"body2\")\n",
    "\n",
    "tab = mdc.Tab(\n",
    "    children=[text, text_2],\n",
    "    options=[{\"label\": \"2a\"}, {\"label\": \"2b\"}]\n",
    ")\n",
    "\n",
    "section_1 = mdc.Section(\n",
    "    id=\"section-1\",\n",
    "    orientation=\"rows\",\n",
    "    children=[text, text_2],\n",
    "    options=[{\"title\": \"Card 1a\", \"size\": 3}, {\"title\": \"Card 1b\"}]\n",
    ")\n",
    "\n",
    "section_2 = mdc.Section(\n",
    "    id=\"section-2\",\n",
    "    children=tab,\n",
    "    options=[{\"title\": \"Card 2\"}]\n",
    ")\n",
    "\n",
    "page = mdc.Page(orientation=\"columns\", children=[section_1, section_2])\n",
    "navbar = mdc.NavBar(title=\"Custom dash\")\n",
    "\n",
    "layout = mdc.Dashboard(children=[navbar, page])"
   ]
  },
  {
   "cell_type": "code",
   "execution_count": 4,
   "id": "touched-holder",
   "metadata": {},
   "outputs": [
    {
     "name": "stderr",
     "output_type": "stream",
     "text": [
      "/opt/conda/lib/python3.8/site-packages/jupyter_dash/jupyter_app.py:139: UserWarning: The 'environ['werkzeug.server.shutdown']' function is deprecated and will be removed in Werkzeug 2.1.\n",
      "  func()\n"
     ]
    }
   ],
   "source": [
    "app = jupyter_dash.JupyterDash(__name__)\n",
    "app.layout = layout\n",
    "\n",
    "app.run_server(mode='jupyterlab', host=\"0.0.0.0\", port=8001)"
   ]
  },
  {
   "cell_type": "code",
   "execution_count": null,
   "id": "cosmetic-amazon",
   "metadata": {},
   "outputs": [],
   "source": []
  }
 ],
 "metadata": {
  "kernelspec": {
   "display_name": "Python 3",
   "language": "python",
   "name": "python3"
  },
  "language_info": {
   "codemirror_mode": {
    "name": "ipython",
    "version": 3
   },
   "file_extension": ".py",
   "mimetype": "text/x-python",
   "name": "python",
   "nbconvert_exporter": "python",
   "pygments_lexer": "ipython3",
   "version": "3.8.6"
  }
 },
 "nbformat": 4,
 "nbformat_minor": 5
}
