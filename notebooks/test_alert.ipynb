{
 "cells": [
  {
   "cell_type": "code",
   "execution_count": null,
   "metadata": {},
   "outputs": [],
   "source": [
    "from dash import html, dcc, Input, Output, State\n",
    "import jupyter_dash\n",
    "\n",
    "import dash_material_components as dmc"
   ]
  },
  {
   "cell_type": "code",
   "execution_count": null,
   "metadata": {},
   "outputs": [],
   "source": [
    "# Test alert\n",
    "\n",
    "input = dcc.Input(id=\"input\")\n",
    "button = html.Button(\"Submit\", id=\"button\", n_clicks=0)\n",
    "box = dmc.Box(children=[input, button])"
   ]
  },
  {
   "cell_type": "code",
   "execution_count": null,
   "metadata": {},
   "outputs": [],
   "source": [
    "# Dashboard layout\n",
    "\n",
    "tab = dmc.Tab(\n",
    "    children=[box],\n",
    "    tabs=[{\"label\": \"Alert\"}]\n",
    ")\n",
    "section = dmc.Section(\n",
    "    orientation=\"columns\",\n",
    "    children=tab,\n",
    "    cards=[{\"title\": \"Card 1\"}]\n",
    ")\n",
    "\n",
    "alert = dmc.Alert(id=\"alert\", severity=\"info\")\n",
    "navbar = dmc.NavBar(title=\"Custom dash\")\n",
    "page = dmc.Page(orientation=\"columns\", children=section)\n",
    "\n",
    "layout = dmc.Dashboard(children=[alert, navbar, page])"
   ]
  },
  {
   "cell_type": "code",
   "execution_count": null,
   "metadata": {},
   "outputs": [],
   "source": [
    "# Dash app\n",
    "\n",
    "app = jupyter_dash.JupyterDash(__name__)\n",
    "app.layout = layout\n",
    "\n",
    "@app.callback(\n",
    "    Output(component_id=\"alert\", component_property=\"message\"),\n",
    "    Input(component_id=\"button\", component_property=\"n_clicks\"),\n",
    "    State(component_id=\"input\", component_property=\"value\"),\n",
    ")\n",
    "def update_alert(n_clicks, value):\n",
    "    return value\n",
    "\n",
    "app.run_server(mode=\"inline\", host=\"0.0.0.0\", port=8001, debug=False)"
   ]
  },
  {
   "cell_type": "code",
   "execution_count": null,
   "metadata": {},
   "outputs": [],
   "source": []
  }
 ],
 "metadata": {
  "kernelspec": {
   "display_name": ".venv",
   "language": "python",
   "name": "python3"
  },
  "language_info": {
   "codemirror_mode": {
    "name": "ipython",
    "version": 3
   },
   "file_extension": ".py",
   "mimetype": "text/x-python",
   "name": "python",
   "nbconvert_exporter": "python",
   "pygments_lexer": "ipython3",
   "version": "3.11.4"
  },
  "orig_nbformat": 4
 },
 "nbformat": 4,
 "nbformat_minor": 2
}
