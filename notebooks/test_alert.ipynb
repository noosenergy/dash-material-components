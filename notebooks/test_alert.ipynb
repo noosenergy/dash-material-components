{
 "cells": [
  {
   "cell_type": "code",
   "execution_count": null,
   "metadata": {},
   "outputs": [],
   "source": [
    "import dash_material_components as mdc\n",
    "\n",
    "from dash import dcc, Input, Output\n",
    "import jupyter_dash"
   ]
  },
  {
   "cell_type": "code",
   "execution_count": null,
   "metadata": {},
   "outputs": [],
   "source": [
    "# Test alert\n",
    "\n",
    "input = dcc.Input(id=\"input\")\n",
    "box = mdc.Box(children=[input])\n",
    "\n",
    "alert = mdc.Alert(id=\"alert\", severity=\"info\")"
   ]
  },
  {
   "cell_type": "code",
   "execution_count": null,
   "metadata": {},
   "outputs": [],
   "source": [
    "# Dashboard layout\n",
    "\n",
    "tab = mdc.Tab(\n",
    "    children=[box],\n",
    "    tabs=[{\"label\": \"Alert\"}]\n",
    ")\n",
    "section = mdc.Section(\n",
    "    orientation=\"columns\",\n",
    "    children=tab,\n",
    "    cards=[{\"title\": \"Card 1\"}]\n",
    ")\n",
    "\n",
    "navbar = mdc.NavBar(title=\"Custom dash\")\n",
    "page = mdc.Page(orientation=\"columns\", children=section)\n",
    "\n",
    "layout = mdc.Dashboard(children=[alert, navbar, page])"
   ]
  },
  {
   "cell_type": "code",
   "execution_count": null,
   "metadata": {},
   "outputs": [],
   "source": [
    "app = jupyter_dash.JupyterDash(__name__)\n",
    "app.layout = layout\n",
    "\n",
    "@app.callback(\n",
    "    Output(component_id=\"alert\", component_property=\"message\"),\n",
    "    Input(component_id=\"input\", component_property=\"value\"),\n",
    ")\n",
    "def update_alert(value):\n",
    "    return value\n",
    "\n",
    "app.run_server(mode='external', host=\"0.0.0.0\", port=8001, debug=False)"
   ]
  },
  {
   "cell_type": "code",
   "execution_count": null,
   "metadata": {},
   "outputs": [],
   "source": []
  }
 ],
 "metadata": {
  "kernelspec": {
   "display_name": ".venv",
   "language": "python",
   "name": "python3"
  },
  "language_info": {
   "codemirror_mode": {
    "name": "ipython",
    "version": 3
   },
   "file_extension": ".py",
   "mimetype": "text/x-python",
   "name": "python",
   "nbconvert_exporter": "python",
   "pygments_lexer": "ipython3",
   "version": "3.11.5"
  },
  "orig_nbformat": 4
 },
 "nbformat": 4,
 "nbformat_minor": 2
}
