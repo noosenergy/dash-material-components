{
 "cells": [
  {
   "cell_type": "markdown",
   "id": "124d91b1-70b5-48ae-8300-f56af156c4a6",
   "metadata": {},
   "source": [
    "https://medium.com/plotly/introducing-jupyterdash-811f1f57c02e"
   ]
  },
  {
   "cell_type": "code",
   "execution_count": 1,
   "id": "a272f0da-9e01-4e10-a83f-2241f073fc32",
   "metadata": {},
   "outputs": [
    {
     "name": "stdout",
     "output_type": "stream",
     "text": [
      "Requirement already satisfied: pandas in /Users/epieuchot/Checkouts/noos/dash-mdc-neptune/.venv/lib/python3.8/site-packages (1.3.4)\n",
      "Requirement already satisfied: matplotlib in /Users/epieuchot/Checkouts/noos/dash-mdc-neptune/.venv/lib/python3.8/site-packages (3.5.0)\n",
      "Requirement already satisfied: noos-pyk in /Users/epieuchot/Checkouts/noos/dash-mdc-neptune/.venv/lib/python3.8/site-packages (0.0.7)\n",
      "Requirement already satisfied: numpy>=1.17.3 in /Users/epieuchot/Checkouts/noos/dash-mdc-neptune/.venv/lib/python3.8/site-packages (from pandas) (1.21.4)\n",
      "Requirement already satisfied: python-dateutil>=2.7.3 in /Users/epieuchot/Checkouts/noos/dash-mdc-neptune/.venv/lib/python3.8/site-packages (from pandas) (2.8.2)\n",
      "Requirement already satisfied: pytz>=2017.3 in /Users/epieuchot/Checkouts/noos/dash-mdc-neptune/.venv/lib/python3.8/site-packages (from pandas) (2021.3)\n",
      "Requirement already satisfied: pillow>=6.2.0 in /Users/epieuchot/Checkouts/noos/dash-mdc-neptune/.venv/lib/python3.8/site-packages (from matplotlib) (8.4.0)\n",
      "Requirement already satisfied: pyparsing>=2.2.1 in /Users/epieuchot/Checkouts/noos/dash-mdc-neptune/.venv/lib/python3.8/site-packages (from matplotlib) (3.0.6)\n",
      "Requirement already satisfied: packaging>=20.0 in /Users/epieuchot/Checkouts/noos/dash-mdc-neptune/.venv/lib/python3.8/site-packages (from matplotlib) (21.3)\n",
      "Requirement already satisfied: cycler>=0.10 in /Users/epieuchot/Checkouts/noos/dash-mdc-neptune/.venv/lib/python3.8/site-packages (from matplotlib) (0.11.0)\n",
      "Requirement already satisfied: setuptools-scm>=4 in /Users/epieuchot/Checkouts/noos/dash-mdc-neptune/.venv/lib/python3.8/site-packages (from matplotlib) (6.3.2)\n",
      "Requirement already satisfied: fonttools>=4.22.0 in /Users/epieuchot/Checkouts/noos/dash-mdc-neptune/.venv/lib/python3.8/site-packages (from matplotlib) (4.28.2)\n",
      "Requirement already satisfied: kiwisolver>=1.0.1 in /Users/epieuchot/Checkouts/noos/dash-mdc-neptune/.venv/lib/python3.8/site-packages (from matplotlib) (1.3.2)\n",
      "Requirement already satisfied: requests in /Users/epieuchot/Checkouts/noos/dash-mdc-neptune/.venv/lib/python3.8/site-packages (from noos-pyk) (2.26.0)\n",
      "Requirement already satisfied: six>=1.5 in /Users/epieuchot/Checkouts/noos/dash-mdc-neptune/.venv/lib/python3.8/site-packages (from python-dateutil>=2.7.3->pandas) (1.16.0)\n",
      "Requirement already satisfied: tomli>=1.0.0 in /Users/epieuchot/Checkouts/noos/dash-mdc-neptune/.venv/lib/python3.8/site-packages (from setuptools-scm>=4->matplotlib) (1.2.2)\n",
      "Requirement already satisfied: setuptools in /Users/epieuchot/Checkouts/noos/dash-mdc-neptune/.venv/lib/python3.8/site-packages (from setuptools-scm>=4->matplotlib) (58.4.0)\n",
      "Requirement already satisfied: certifi>=2017.4.17 in /Users/epieuchot/Checkouts/noos/dash-mdc-neptune/.venv/lib/python3.8/site-packages (from requests->noos-pyk) (2021.10.8)\n",
      "Requirement already satisfied: urllib3<1.27,>=1.21.1 in /Users/epieuchot/Checkouts/noos/dash-mdc-neptune/.venv/lib/python3.8/site-packages (from requests->noos-pyk) (1.26.7)\n",
      "Requirement already satisfied: idna<4,>=2.5 in /Users/epieuchot/Checkouts/noos/dash-mdc-neptune/.venv/lib/python3.8/site-packages (from requests->noos-pyk) (3.3)\n",
      "Requirement already satisfied: charset-normalizer~=2.0.0 in /Users/epieuchot/Checkouts/noos/dash-mdc-neptune/.venv/lib/python3.8/site-packages (from requests->noos-pyk) (2.0.8)\n"
     ]
    }
   ],
   "source": [
    "!pip install pandas matplotlib noos-pyk"
   ]
  },
  {
   "cell_type": "code",
   "execution_count": 2,
   "id": "1434e219-13d2-4b4d-92ac-0f719f06242b",
   "metadata": {},
   "outputs": [],
   "source": [
    "import datetime as dt\n",
    "\n",
    "import pandas as pd\n",
    "import plotly.graph_objects as go\n",
    "\n",
    "from dash_mdc_neptune import themes"
   ]
  },
  {
   "cell_type": "code",
   "execution_count": 3,
   "id": "5cf456ca-5e42-4e33-a3fa-0d7969a58001",
   "metadata": {},
   "outputs": [],
   "source": [
    "from http import client as http_client\n",
    "from noos_pyk.clients import json\n",
    "\n",
    "\n",
    "class NeptuneClient(json.JSONClient):\n",
    "\n",
    "    default_base_url = \"https://api.noos.energy/\"\n",
    "\n",
    "    def retrieve_time_series(self, curve_type, curve_uid, published_at = None):\n",
    "        params = None\n",
    "        if published_at:\n",
    "            params = {\"published_at\": published_at.isoformat()}\n",
    "        response = self.get(\n",
    "            path=f\"v1/curves/{curve_type}/contracts/{curve_uid}\",\n",
    "            params=params,\n",
    "            statuses=(http_client.OK,),\n",
    "        )\n",
    "        return pd.DataFrame(data=response[\"time_series\"])"
   ]
  },
  {
   "cell_type": "code",
   "execution_count": 4,
   "id": "c8405c3c-d203-40ae-b096-cffe4fbe4a45",
   "metadata": {},
   "outputs": [],
   "source": [
    "# Global variables\n",
    "\n",
    "TODAY = pd.to_datetime(dt.date.today(), utc=True)\n",
    "CURVE_UID = \"FWD_PWRTE_H_DA\"\n",
    "PUBLISHED_AT = TODAY - pd.tseries.offsets.Day(1)"
   ]
  },
  {
   "cell_type": "code",
   "execution_count": 5,
   "id": "4b1f2c02-b5c0-4f54-89b7-47ebf90dd474",
   "metadata": {},
   "outputs": [],
   "source": [
    "# Retrieve auctions\n",
    "\n",
    "query_params = {\n",
    "    \"curve_uid\": CURVE_UID,\n",
    "    \"curve_type\": \"FIXING\",\n",
    "    \"published_at\": PUBLISHED_AT,\n",
    "}\n",
    "\n",
    "client = NeptuneClient()\n",
    "df = client.retrieve_time_series(**query_params)"
   ]
  },
  {
   "cell_type": "code",
   "execution_count": 6,
   "id": "f3ba63e6-b681-41cc-ae48-47b421a470b9",
   "metadata": {},
   "outputs": [],
   "source": [
    "# Format auctions\n",
    "\n",
    "df_da = df.copy()\n",
    "df_da[\"timestamp\"] = pd.to_datetime(df_da.timestamp, utc=True)\n",
    "df_da = df_da.rename(columns={\"timestamp\": \"delivery_from\", \"value\": \"price\"})\n",
    "\n",
    "# Add auction date and period\n",
    "df_da[\"settlement_date\"] = df_da.delivery_from.dt.date\n",
    "df_da[\"settlement_period_id\"] =  df_da.delivery_from.dt.hour\n",
    "\n",
    "# Add local delivery\n",
    "df_da[\"delivery_from_local\"] = df_da.delivery_from.dt.tz_convert(\"Europe/Paris\")"
   ]
  },
  {
   "cell_type": "code",
   "execution_count": 7,
   "id": "c637c708-4f42-47d8-bc33-2bedabec1897",
   "metadata": {},
   "outputs": [],
   "source": [
    "# Extract latest auctions\n",
    "\n",
    "df_latest_da = df_da.tail(24)\n",
    "df_latest_da = df_latest_da[\n",
    "    [\"settlement_date\", \"settlement_period_id\", \"price\", \"delivery_from_local\"]\n",
    "]\n",
    "df_latest_da = df_latest_da.rename(\n",
    "    columns={\n",
    "        \"settlement_date\": \"auction date\",\n",
    "        \"settlement_period_id\": \"auction period\",\n",
    "        \"price\": \"€/MWh\",\n",
    "        \"delivery_from_local\": \"local delivery\",\n",
    "    }\n",
    ")\n",
    "# df_latest_da = df_latest_da.set_index(\"auction period\")\n",
    "\n",
    "# Format table\n",
    "\n",
    "df_styler = df_latest_da.style\n",
    "df_styler = df_styler.hide_index()\n",
    "df_styler = df_styler.background_gradient(\n",
    "    axis=0, gmap=df_latest_da[\"€/MWh\"], cmap=themes.matplotlib_templates.noos_diverging\n",
    ")\n",
    "df_styler = df_styler.format({\"€/MWh\": \"{:,.2f}\", \"hour\": \"{:,.0f}\"})\n",
    "df_styler = df_styler.set_table_attributes(\"style='font-size: 0.8rem'\")"
   ]
  },
  {
   "cell_type": "code",
   "execution_count": 8,
   "id": "81e86364-07e4-4762-b226-cbf7d111f90f",
   "metadata": {},
   "outputs": [],
   "source": [
    "# Shared heatmap configs\n",
    "\n",
    "GO_LAYOUT = go.Layout(\n",
    "    xaxis=go.layout.XAxis(\n",
    "        title=go.layout.xaxis.Title(\n",
    "            text=\"local delivery date\",\n",
    "        )\n",
    "    ),\n",
    "    yaxis=go.layout.YAxis(\n",
    "        title=go.layout.yaxis.Title(\n",
    "            text=\"local delivery hour\",\n",
    "        )\n",
    "    ),\n",
    "    template=\"noos_watermark+noos_base+noos_colorscale+min_modebar+hoover_xunified\",\n",
    ")\n",
    "\n",
    "GO_HEATMAP_KWARGS = {\n",
    "    \"colorscale\": themes.NOOS_PALETTE_DIVERGING,\n",
    "    \"colorbar\": {\"title\": \"€/MWh\"},\n",
    "    \"hovertemplate\": (\n",
    "        \"delivery date: %{x:%Y-%m-%d}<br>\"\n",
    "        \"delivery hour: %{y:.0f}<br>\"\n",
    "        \"price: %{z:.2f}<extra></extra>\"\n",
    "    ),\n",
    "}"
   ]
  },
  {
   "cell_type": "code",
   "execution_count": 9,
   "id": "b44ce032-c68e-48a6-ab67-217de6d7b4a5",
   "metadata": {},
   "outputs": [],
   "source": [
    "# Extract heatmap data\n",
    "\n",
    "df_heatmap_da = df_da.set_index(\"delivery_from_local\")\n",
    "\n",
    "df_heatmap_da[\"date\"] = df_heatmap_da.index.date.astype(\"str\")\n",
    "df_heatmap_da[\"hour\"] = df_heatmap_da.index.hour\n",
    "\n",
    "\n",
    "# Quarterly heatmap\n",
    "\n",
    "qtd_date = PUBLISHED_AT - pd.tseries.offsets.Week(12)\n",
    "df_qtd_da = df_heatmap_da[qtd_date.date().isoformat() :]\n",
    "\n",
    "qtd_data = go.Heatmap(z=df_qtd_da.price, x=df_qtd_da.date, y=df_qtd_da.hour, **GO_HEATMAP_KWARGS)\n",
    "\n",
    "qtd_fig = go.FigureWidget(data=qtd_data, layout=GO_LAYOUT)"
   ]
  },
  {
   "cell_type": "code",
   "execution_count": 23,
   "id": "e7a1d3df-f286-47d3-b1b6-b54877acd4e2",
   "metadata": {},
   "outputs": [],
   "source": [
    "from dash import dcc\n",
    "from dash import html\n",
    "import dash_dangerously_set_inner_html as raw_html\n",
    "import dash_mdc_neptune as mdc\n",
    "\n",
    "\n",
    "canvas_style = {\n",
    "    \"display\": 'grid',\n",
    "    \"gridTemplateColumns\": \"2fr 4fr\",\n",
    "    \"gap\": 2,\n",
    "    \"gridTemplateRows\": \"auto\",\n",
    "    \"gridTemplateAreas\": \"table graph\",\n",
    "}\n",
    "\n",
    "table = html.Div(children=raw_html.DangerouslySetInnerHTML(df_styler.to_html()))\n",
    "table_paper = mdc.Paper(id=\"table_paper\", children=[table])\n",
    "table_box = mdc.Box(id=\"table_box\", sx={\"gridArea\": \"table\"}, children=[table_paper])\n",
    "\n",
    "graph = dcc.Graph(id=\"quarterly-heatmap\", figure=qtd_fig, responsive=True)\n",
    "graph_paper = mdc.Paper(id=\"graph_paper\", children=[graph])\n",
    "graph_box = mdc.Box(id=\"graph_box\", sx={\"gridArea\": \"graph\"}, children=[graph_paper])\n",
    "\n",
    "canvas_box = mdc.Box(id=\"canvas_box\", sx=canvas_style, children=[table_box, graph_box])\n",
    "\n",
    "layout = html.Div(style={'backgroundColor': themes.NOOS_HTML_COLORS[\"primary\"]}, children=[canvas_box])"
   ]
  },
  {
   "cell_type": "code",
   "execution_count": 24,
   "id": "9d4724e6-87d8-4ca7-aced-f21b1f5faeb2",
   "metadata": {},
   "outputs": [
    {
     "name": "stderr",
     "output_type": "stream",
     "text": [
      "/Users/epieuchot/Checkouts/noos/dash-mdc-neptune/.venv/lib/python3.8/site-packages/jupyter_dash/jupyter_app.py:139: UserWarning:\n",
      "\n",
      "The 'environ['werkzeug.server.shutdown']' function is deprecated and will be removed in Werkzeug 2.1.\n",
      "\n"
     ]
    }
   ],
   "source": [
    "from jupyter_dash import JupyterDash\n",
    "\n",
    "\n",
    "app = JupyterDash(__name__)\n",
    "app.layout = layout\n",
    "\n",
    "app.run_server(mode='jupyterlab', port=8051)"
   ]
  },
  {
   "cell_type": "code",
   "execution_count": null,
   "id": "d2ab3886-d23a-4dd3-8cc4-e4f40385b145",
   "metadata": {},
   "outputs": [],
   "source": []
  }
 ],
 "metadata": {
  "kernelspec": {
   "display_name": "Python 3 (ipykernel)",
   "language": "python",
   "name": "python3"
  },
  "language_info": {
   "codemirror_mode": {
    "name": "ipython",
    "version": 3
   },
   "file_extension": ".py",
   "mimetype": "text/x-python",
   "name": "python",
   "nbconvert_exporter": "python",
   "pygments_lexer": "ipython3",
   "version": "3.8.6"
  }
 },
 "nbformat": 4,
 "nbformat_minor": 5
}
